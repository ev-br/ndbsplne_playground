{
 "cells": [
  {
   "cell_type": "markdown",
   "id": "400ab477",
   "metadata": {},
   "source": [
    "# TODO\n",
    "\n",
    "1. NdBSpline: a tuple of non-zero b-spline vectors\n",
    "2. Tests with 2D and 3D\n",
    "3. vector of `x`   + tests\n",
    "4. trailing dimensions of `c`: reshape, loop, reshape back + tests\n",
    "5. get rid of `itertools.product` : iterate over c.flat (subarray!)"
   ]
  },
  {
   "cell_type": "code",
   "execution_count": 1,
   "id": "c21258e9",
   "metadata": {},
   "outputs": [],
   "source": [
    "def B(x, k, i, t):\n",
    "    if k == 0:\n",
    "        return 1.0 if t[i] <= x < t[i+1] else 0.0\n",
    "    if t[i+k] == t[i]:\n",
    "        c1 = 0.0\n",
    "    else:\n",
    "        c1 = (x - t[i])/(t[i+k] - t[i]) * B(x, k-1, i, t)\n",
    "    if t[i+k+1] == t[i+1]:\n",
    "        c2 = 0.0\n",
    "    else:\n",
    "        c2 = (t[i+k+1] - x)/(t[i+k+1] - t[i+1]) * B(x, k-1, i+1, t)\n",
    "    return c1 + c2\n",
    "\n",
    "def bspline(x, t, c, k):\n",
    "    n = len(t) - k - 1\n",
    "    assert (n >= k+1) and (len(c) >= n)\n",
    "    return sum(c[i] * B(x, k, i, t) for i in range(n))"
   ]
  },
  {
   "cell_type": "code",
   "execution_count": 63,
   "id": "8e0b3a27",
   "metadata": {},
   "outputs": [],
   "source": [
    "def _naive_eval(x, t, c, k):\n",
    "    \"\"\"\n",
    "    Naive B-spline evaluation. Useful only for testing!\n",
    "    \"\"\"\n",
    "    if x == t[k]:\n",
    "        i = k\n",
    "    else:\n",
    "        i = np.searchsorted(t, x) - 1\n",
    "    assert t[i] <= x <= t[i+1]\n",
    "    assert i >= k and i < len(t) - k\n",
    "    return sum(c[i-j] * B(x, k, i-j, t) for j in range(0, k+1))"
   ]
  },
  {
   "cell_type": "code",
   "execution_count": 65,
   "id": "c84d97bf",
   "metadata": {},
   "outputs": [
    {
     "data": {
      "text/plain": [
       "(3.3749999999999996, array(3.375))"
      ]
     },
     "execution_count": 65,
     "metadata": {},
     "output_type": "execute_result"
    }
   ],
   "source": [
    "_naive_eval(1.5, spl.t, spl.c, 3), spl(1.5)"
   ]
  },
  {
   "cell_type": "code",
   "execution_count": 80,
   "id": "17317d2c",
   "metadata": {},
   "outputs": [],
   "source": [
    "import numpy as np\n",
    "from scipy.interpolate import make_interp_spline\n",
    "\n",
    "def prod(iterable):\n",
    "    \"\"\"\n",
    "    Product of a sequence of numbers.\n",
    "\n",
    "    Faster than np.prod for short lists like array shapes, and does\n",
    "    not overflow if using Python integers.\n",
    "    \"\"\"\n",
    "    product = 1\n",
    "    for x in iterable:\n",
    "        product *= x\n",
    "    return product"
   ]
  },
  {
   "cell_type": "code",
   "execution_count": 164,
   "id": "fb276e54",
   "metadata": {},
   "outputs": [],
   "source": [
    "x = np.arange(6)\n",
    "y = x**3\n",
    "spl = make_interp_spline(x, y, k=3)"
   ]
  },
  {
   "cell_type": "code",
   "execution_count": 7,
   "id": "1788fd52",
   "metadata": {},
   "outputs": [
    {
     "data": {
      "text/plain": [
       "array([0., 0., 0., 0., 2., 3., 5., 5., 5., 5.])"
      ]
     },
     "execution_count": 7,
     "metadata": {},
     "output_type": "execute_result"
    }
   ],
   "source": [
    "spl.t"
   ]
  },
  {
   "cell_type": "code",
   "execution_count": 10,
   "id": "feb7a140",
   "metadata": {},
   "outputs": [
    {
     "data": {
      "text/plain": [
       "array([ 0.00000000e+00, -8.11457125e-16,  1.61091184e-15,  3.00000000e+01,\n",
       "        7.50000000e+01,  1.25000000e+02])"
      ]
     },
     "execution_count": 10,
     "metadata": {},
     "output_type": "execute_result"
    }
   ],
   "source": [
    "spl.c"
   ]
  },
  {
   "cell_type": "code",
   "execution_count": 165,
   "id": "6077bc11",
   "metadata": {},
   "outputs": [
    {
     "data": {
      "text/plain": [
       "(array([0., 0., 0., 0., 2., 3., 5., 5., 5., 5.]),\n",
       " array([  0.        ,   1.33333333,   3.33333333,  36.66666667,\n",
       "         83.66666667, 135.        ]))"
      ]
     },
     "execution_count": 165,
     "metadata": {},
     "output_type": "execute_result"
    }
   ],
   "source": [
    "y_1 = x**3 + 2*x\n",
    "spl_1 = make_interp_spline(x, y_1, k=3)\n",
    "spl_1.t, spl_1.c"
   ]
  },
  {
   "cell_type": "code",
   "execution_count": 33,
   "id": "0cc65583",
   "metadata": {},
   "outputs": [
    {
     "name": "stdout",
     "output_type": "stream",
     "text": [
      "[[    0.            -0.             0.             0.             0.             0.        ]\n",
      " [    0.            -0.             0.            40.           100.           166.66666667]\n",
      " [    0.            -0.             0.           100.           250.           416.66666667]\n",
      " [    0.            -0.             0.          1100.          2750.          4583.33333333]\n",
      " [    0.            -0.             0.          2510.          6275.         10458.33333333]\n",
      " [    0.            -0.             0.          4050.         10125.         16875.        ]]\n"
     ]
    }
   ],
   "source": [
    "# make the outer product of 1D coefficients\n",
    "\n",
    "c2 = np.outer(spl_1.c, spl.c)\n",
    "\n",
    "with np.printoptions(suppress=True, linewidth=100):\n",
    "    print(c2)"
   ]
  },
  {
   "cell_type": "code",
   "execution_count": 29,
   "id": "dc68ffc3",
   "metadata": {},
   "outputs": [],
   "source": [
    "def bspline2(xy, t, c, k):\n",
    "    x, y = xy\n",
    "    tx, ty = t\n",
    "    nx = len(tx) - k - 1\n",
    "    assert (nx >= k+1)\n",
    "    ny = len(ty) - k - 1\n",
    "    assert (ny >= k+1)\n",
    "    return sum(c[ix, iy] * B(x, k, ix, tx) * B(y, k, iy, ty) for ix in range(nx) for iy in range(ny))"
   ]
  },
  {
   "cell_type": "code",
   "execution_count": 34,
   "id": "382b8010",
   "metadata": {},
   "outputs": [
    {
     "name": "stdout",
     "output_type": "stream",
     "text": [
      "0.796875  --  0.7968749999999984\n",
      "20.625  --  20.625\n",
      "3.796875  --  3.796875000000001\n"
     ]
    }
   ],
   "source": [
    "for x0, y0 in [(1.5, 0.5), (2.5, 1), (0.5, 1.5)]:\n",
    "    print((x0**3 + 2*x0)* y0**3, ' -- ',\n",
    "          bspline2((x0, y0), (spl.t, spl_1.t), c2, k=3))"
   ]
  },
  {
   "cell_type": "code",
   "execution_count": 25,
   "id": "83349765",
   "metadata": {},
   "outputs": [
    {
     "data": {
      "text/plain": [
       "3.796875"
      ]
     },
     "execution_count": 25,
     "metadata": {},
     "output_type": "execute_result"
    }
   ],
   "source": [
    "(0.5**3 + 2*0.5) * 1.5**3"
   ]
  },
  {
   "cell_type": "code",
   "execution_count": 38,
   "id": "4417e73b",
   "metadata": {},
   "outputs": [
    {
     "data": {
      "text/plain": [
       "(6.0, 1.0)"
      ]
     },
     "execution_count": 38,
     "metadata": {},
     "output_type": "execute_result"
    }
   ],
   "source": [
    "tuple(_/8 for _ in c2.strides)"
   ]
  },
  {
   "cell_type": "code",
   "execution_count": 40,
   "id": "0869afb7",
   "metadata": {},
   "outputs": [
    {
     "data": {
      "text/plain": [
       "(6, 6)"
      ]
     },
     "execution_count": 40,
     "metadata": {},
     "output_type": "execute_result"
    }
   ],
   "source": [
    "c2.shape"
   ]
  },
  {
   "cell_type": "code",
   "execution_count": 44,
   "id": "5cebe5d5",
   "metadata": {},
   "outputs": [
    {
     "data": {
      "text/plain": [
       "6"
      ]
     },
     "execution_count": 44,
     "metadata": {},
     "output_type": "execute_result"
    }
   ],
   "source": [
    "len(spl.t) - spl.k - 1"
   ]
  },
  {
   "cell_type": "code",
   "execution_count": 150,
   "id": "f70ac141",
   "metadata": {},
   "outputs": [],
   "source": [
    "class NdBSpline0:\n",
    "    def __init__(self, t, c, k=3):\n",
    "        \"\"\"Tensor product spline object.\n",
    "        \n",
    "        c[i1, i2, ..., id] * B(x1, i1) * B(x2, i2) * ... * B(xd, id)\n",
    "        \n",
    "        \n",
    "        Parameters\n",
    "        ----------\n",
    "        c : ndarray, shape (n1, n2, ..., nd, ...)\n",
    "            b-spline coefficients\n",
    "        t : tuple of 1D ndarrays\n",
    "            knot vectors in directions 1, 2, ... d\n",
    "            ``len(t[i]) == n[i] + k + 1``\n",
    "        k : int or length-d tuple of integers\n",
    "            spline degrees.\n",
    "        \"\"\"\n",
    "        ndim = len(t)\n",
    "        assert ndim <= len(c.shape)\n",
    "        \n",
    "        try:\n",
    "            len(k)\n",
    "        except TypeError:\n",
    "            # make k a tuple\n",
    "            k = (k,)*ndim\n",
    "\n",
    "        self.k = tuple(operator.index(ki) for ki in k)\n",
    "        self.t = tuple(np.asarray(ti, dtype=float) for ti in t)\n",
    "        self.c = c\n",
    "\n",
    "    def __call__(self, x):\n",
    "        ndim = len(self.t)\n",
    "        # a single evaluation point: `x` is a 1D array_like, shape (ndim,)\n",
    "        assert len(x) == ndim\n",
    "        \n",
    "        # get the indices in an ndim-dimensional vector\n",
    "        i = ['none',]*ndim\n",
    "        for d in range(ndim):\n",
    "            td, xd = self.t[d], x[d]\n",
    "            k = self.k[d]\n",
    "            \n",
    "            # find the index for x[d]\n",
    "            if xd == td[k]:\n",
    "                i[d] = k\n",
    "            else:\n",
    "                i[d] = np.searchsorted(td, xd) - 1\n",
    "            assert td[i[d]] <= xd <= td[i[d]+1]\n",
    "            assert i[d] >= k and i[d] < len(td) - k\n",
    "        i = tuple(i)\n",
    "        \n",
    "        # iterate over the dimensions, form linear combinations of\n",
    "        # products B(x_1) * B(x_2) * ... B(x_N) of (k+1)**N b-splines\n",
    "        # which are non-zero at `i = (i_1, i_2, ..., i_N)`.\n",
    "        result = 0\n",
    "        iters = [range(i[d] - self.k[d], i[d] + 1) for d in range(ndim)]\n",
    "        for idx in itertools.product(*iters):\n",
    "            term = self.c[idx] * prod(B(x[d], self.k[d], idx[d], self.t[d]) for d in range(ndim))\n",
    "            result += term\n",
    "        return result"
   ]
  },
  {
   "cell_type": "code",
   "execution_count": 205,
   "id": "66229498",
   "metadata": {},
   "outputs": [],
   "source": [
    "class NdBSpline:\n",
    "    def __init__(self, t, c, k=3):\n",
    "        \"\"\"Tensor product spline object.\n",
    "        \n",
    "        c[i1, i2, ..., id] * B(x1, i1) * B(x2, i2) * ... * B(xd, id)\n",
    "        \n",
    "        \n",
    "        Parameters\n",
    "        ----------\n",
    "        c : ndarray, shape (n1, n2, ..., nd, ...)\n",
    "            b-spline coefficients\n",
    "        t : tuple of 1D ndarrays\n",
    "            knot vectors in directions 1, 2, ... d\n",
    "            ``len(t[i]) == n[i] + k + 1``\n",
    "        k : int or length-d tuple of integers\n",
    "            spline degrees.\n",
    "        \"\"\"\n",
    "        ndim = len(t)\n",
    "        assert ndim <= len(c.shape)\n",
    "        \n",
    "        try:\n",
    "            len(k)\n",
    "        except TypeError:\n",
    "            # make k a tuple\n",
    "            k = (k,)*ndim\n",
    "\n",
    "        self.k = tuple(operator.index(ki) for ki in k)\n",
    "        self.t = tuple(np.asarray(ti, dtype=float) for ti in t)\n",
    "        self.c = c\n",
    "\n",
    "    def __call__(self, xi):\n",
    "        \"\"\"Evaluate the tensor product b-spline at coordinates.\n",
    "        \n",
    "        Parameters\n",
    "        ----------\n",
    "        xi : array_like, shape(..., ndim)\n",
    "            The coordinates to evaluate the interpolator at.\n",
    "            This can be a list or tuple of ndim-dimensional points\n",
    "            or an array with the shape (num_points, ndim).\n",
    "            \n",
    "        Returns\n",
    "        -------\n",
    "        values : ndarray, shape xi.shape[:-1] + self.c.shape[:ndim]\n",
    "            Interpolated values at xi\n",
    "        \"\"\"\n",
    "        \n",
    "        ndim = len(self.t)\n",
    "        # a single evaluation point: `x` is a 1D array_like, shape (ndim,)\n",
    "        assert len(x) == ndim\n",
    "        \n",
    "        # get the indices in an ndim-dimensional vector\n",
    "        i = ['none',]*ndim\n",
    "        b = np.empty((ndim, max(self.k)+1), dtype=float) * np.nan\n",
    "        for d in range(ndim):\n",
    "            td, xd = self.t[d], x[d]\n",
    "            k = self.k[d]\n",
    "            \n",
    "            # find the index for x[d]\n",
    "            if xd == td[k]:\n",
    "                i[d] = k\n",
    "            else:\n",
    "                i[d] = np.searchsorted(td, xd) - 1\n",
    "            assert td[i[d]] <= xd <= td[i[d]+1]\n",
    "            assert i[d] >= k and i[d] < len(td) - k\n",
    "            \n",
    "            # (k+1) b-splines which are non-zero at x[d] \n",
    "            b[d, :k+1] = [B(xd, k, j, td) for j in range(i[d]-k, i[d]+1)]   \n",
    "        i = tuple(i)\n",
    "        \n",
    "        # iterate over the dimensions, form linear combinations of\n",
    "        # products B(x_1) * B(x_2) * ... B(x_N) of (k+1)**N b-splines\n",
    "        # which are non-zero at `i = (i_1, i_2, ..., i_N)`.\n",
    "        result = 0\n",
    "        iters = [range(i[d] - self.k[d], i[d] + 1) for d in range(ndim)]\n",
    "        for idx in itertools.product(*iters):\n",
    "            term = self.c[idx] * prod(b[d, idx[d] - i[d] + k] for d in range(ndim))\n",
    "            result += term\n",
    "        return result"
   ]
  },
  {
   "cell_type": "code",
   "execution_count": 206,
   "id": "3c906322",
   "metadata": {},
   "outputs": [
    {
     "name": "stdout",
     "output_type": "stream",
     "text": [
      "99.609375  --  99.60937499999999 -- 99.60937499999997\n",
      "20.625  --  20.625 -- 20.625\n",
      "3.796875  --  3.796875000000001 -- 3.796875000000001\n"
     ]
    }
   ],
   "source": [
    "bspl2 = NdBSpline((spl.t, spl_1.t), c2, k=3)\n",
    "\n",
    "for x0, y0 in [(1.5, 2.5), (2.5, 1), (0.5, 1.5)]:\n",
    "    print((x0**3 + 2*x0)* y0**3, ' -- ',\n",
    "          bspline2((x0, y0), (spl.t, spl_1.t), c2, k=3), '--',\n",
    "         ## naive_B_2((x0, y0), (spl.t, spl_1.t), c2, k=3), )\n",
    "          bspl2((x0, y0))\n",
    "         )"
   ]
  },
  {
   "cell_type": "code",
   "execution_count": 207,
   "id": "ec665215",
   "metadata": {},
   "outputs": [
    {
     "data": {
      "text/plain": [
       "99.60937499999997"
      ]
     },
     "execution_count": 207,
     "metadata": {},
     "output_type": "execute_result"
    }
   ],
   "source": [
    "spl2 = NdBSpline((spl.t, spl_1.t), c2, k=3)\n",
    "\n",
    "spl2((1.5, 2.5))"
   ]
  },
  {
   "cell_type": "code",
   "execution_count": 108,
   "id": "a66af227",
   "metadata": {},
   "outputs": [
    {
     "data": {
      "text/plain": [
       "(array([0., 0., 0., 0., 2., 3., 5., 5., 5., 5.]),\n",
       " array([0., 0., 0., 0., 2., 3., 5., 5., 5., 5.]))"
      ]
     },
     "execution_count": 108,
     "metadata": {},
     "output_type": "execute_result"
    }
   ],
   "source": [
    "spl.t, spl_1.t"
   ]
  },
  {
   "cell_type": "code",
   "execution_count": 145,
   "id": "7d800840",
   "metadata": {},
   "outputs": [],
   "source": [
    "def naive_B_2(xy, t, c, k):\n",
    "    \"\"\"\n",
    "    Naive B-spline evaluation. Useful only for testing!\n",
    "    \"\"\"\n",
    "    x, y = xy\n",
    "    tx, ty = t\n",
    "    \n",
    "    if x == tx[k]:\n",
    "        ix = k\n",
    "    else:\n",
    "        ix = np.searchsorted(tx, x) - 1\n",
    "    assert tx[ix] <= x <= tx[ix + 1]\n",
    "    assert ix >= k and ix < len(tx) - k\n",
    "\n",
    "    if y == ty[k]:\n",
    "        iy = k\n",
    "    else:\n",
    "        iy = np.searchsorted(ty, y) - 1\n",
    "    assert ty[iy] <= y <= ty[iy + 1]\n",
    "    assert iy >= k and iy < len(ty) - k\n",
    "    \n",
    "    print(ix, iy)\n",
    "    \n",
    "    res = sum(c[ix-jx, iy - jy] * B(x, k, ix-jx, tx) * B(y, k, iy-jy, ty)\n",
    "               for jx in range(0, k+1) for jy in range(0, k+1))\n",
    "    \n",
    "    result = 0\n",
    "    for jx in range(ix-k, ix+1):\n",
    "        for jy in range(iy-k, iy+1):\n",
    "            print(jx, ix - jx)\n",
    "            result += c[jx, jy] * B(x, k, jx, tx) * B(y, k, jy, ty)\n",
    "            \n",
    "    assert np.allclose(result,  res) #, result-res\n",
    "    return result"
   ]
  },
  {
   "cell_type": "code",
   "execution_count": 146,
   "id": "3775d370",
   "metadata": {},
   "outputs": [
    {
     "name": "stdout",
     "output_type": "stream",
     "text": [
      "3 4\n",
      "0 3\n",
      "0 3\n",
      "0 3\n",
      "0 3\n",
      "1 2\n",
      "1 2\n",
      "1 2\n",
      "1 2\n",
      "2 1\n",
      "2 1\n",
      "2 1\n",
      "2 1\n",
      "3 0\n",
      "3 0\n",
      "3 0\n",
      "3 0\n"
     ]
    },
    {
     "data": {
      "text/plain": [
       "(99.60937499999999,)"
      ]
     },
     "execution_count": 146,
     "metadata": {},
     "output_type": "execute_result"
    }
   ],
   "source": [
    "x0, y0 = (1.5, 2.5)\n",
    "naive_B_2((x0, y0), (spl.t, spl_1.t), c2, k=3),"
   ]
  },
  {
   "cell_type": "code",
   "execution_count": 208,
   "id": "ad0280d8",
   "metadata": {},
   "outputs": [
    {
     "data": {
      "text/plain": [
       "(3, 2)"
      ]
     },
     "execution_count": 208,
     "metadata": {},
     "output_type": "execute_result"
    }
   ],
   "source": [
    "np.array([(1.5, 2.5), (2.5, 1), (0.5, 1.5)]).shape"
   ]
  },
  {
   "cell_type": "code",
   "execution_count": 210,
   "id": "9372ce41",
   "metadata": {},
   "outputs": [
    {
     "data": {
      "text/plain": [
       "(2,)"
      ]
     },
     "execution_count": 210,
     "metadata": {},
     "output_type": "execute_result"
    }
   ],
   "source": [
    "np.array((1.5, 2.5)).shape"
   ]
  },
  {
   "cell_type": "code",
   "execution_count": null,
   "id": "5b44e338",
   "metadata": {},
   "outputs": [],
   "source": []
  },
  {
   "cell_type": "code",
   "execution_count": null,
   "id": "ab23eb60",
   "metadata": {},
   "outputs": [],
   "source": []
  },
  {
   "cell_type": "code",
   "execution_count": null,
   "id": "f5fa3d82",
   "metadata": {},
   "outputs": [],
   "source": []
  },
  {
   "cell_type": "code",
   "execution_count": 79,
   "id": "de8ef36e",
   "metadata": {},
   "outputs": [
    {
     "name": "stdout",
     "output_type": "stream",
     "text": [
      "0 (0, 0, 0) 0\n",
      "1 (0, 0, 1) 1\n",
      "2 (0, 0, 2) 2\n",
      "3 (0, 0, 3) 3\n",
      "4 (0, 1, 0) 4\n",
      "5 (0, 1, 1) 5\n",
      "6 (0, 1, 2) 6\n",
      "7 (0, 1, 3) 7\n",
      "8 (0, 2, 0) 8\n",
      "9 (0, 2, 1) 9\n",
      "10 (0, 2, 2) 10\n",
      "11 (0, 2, 3) 11\n",
      "12 (0, 3, 0) 12\n",
      "13 (0, 3, 1) 13\n",
      "14 (0, 3, 2) 14\n",
      "15 (0, 3, 3) 15\n",
      "16 (1, 0, 0) 16\n",
      "17 (1, 0, 1) 17\n",
      "18 (1, 0, 2) 18\n",
      "19 (1, 0, 3) 19\n",
      "20 (1, 1, 0) 20\n",
      "21 (1, 1, 1) 21\n",
      "22 (1, 1, 2) 22\n",
      "23 (1, 1, 3) 23\n",
      "24 (1, 2, 0) 24\n",
      "25 (1, 2, 1) 25\n",
      "26 (1, 2, 2) 26\n",
      "27 (1, 2, 3) 27\n",
      "28 (1, 3, 0) 28\n",
      "29 (1, 3, 1) 29\n",
      "30 (1, 3, 2) 30\n",
      "31 (1, 3, 3) 31\n",
      "32 (2, 0, 0) 32\n",
      "33 (2, 0, 1) 33\n",
      "34 (2, 0, 2) 34\n",
      "35 (2, 0, 3) 35\n",
      "36 (2, 1, 0) 36\n",
      "37 (2, 1, 1) 37\n",
      "38 (2, 1, 2) 38\n",
      "39 (2, 1, 3) 39\n",
      "40 (2, 2, 0) 40\n",
      "41 (2, 2, 1) 41\n",
      "42 (2, 2, 2) 42\n",
      "43 (2, 2, 3) 43\n",
      "44 (2, 3, 0) 44\n",
      "45 (2, 3, 1) 45\n",
      "46 (2, 3, 2) 46\n",
      "47 (2, 3, 3) 47\n",
      "48 (3, 0, 0) 48\n",
      "49 (3, 0, 1) 49\n",
      "50 (3, 0, 2) 50\n",
      "51 (3, 0, 3) 51\n",
      "52 (3, 1, 0) 52\n",
      "53 (3, 1, 1) 53\n",
      "54 (3, 1, 2) 54\n",
      "55 (3, 1, 3) 55\n",
      "56 (3, 2, 0) 56\n",
      "57 (3, 2, 1) 57\n",
      "58 (3, 2, 2) 58\n",
      "59 (3, 2, 3) 59\n",
      "60 (3, 3, 0) 60\n",
      "61 (3, 3, 1) 61\n",
      "62 (3, 3, 2) 62\n",
      "63 (3, 3, 3) 63\n"
     ]
    }
   ],
   "source": [
    "k = 3\n",
    "p = itertools.product(*(range(0, k+1),)*3)\n",
    "for j, tpl in enumerate(p):\n",
    "    print(j, tpl, a[tpl])"
   ]
  },
  {
   "cell_type": "code",
   "execution_count": null,
   "id": "ea63b32c",
   "metadata": {},
   "outputs": [],
   "source": []
  }
 ],
 "metadata": {
  "kernelspec": {
   "display_name": "Python 3",
   "language": "python",
   "name": "python3"
  },
  "language_info": {
   "codemirror_mode": {
    "name": "ipython",
    "version": 3
   },
   "file_extension": ".py",
   "mimetype": "text/x-python",
   "name": "python",
   "nbconvert_exporter": "python",
   "pygments_lexer": "ipython3",
   "version": "3.8.10"
  }
 },
 "nbformat": 4,
 "nbformat_minor": 5
}
