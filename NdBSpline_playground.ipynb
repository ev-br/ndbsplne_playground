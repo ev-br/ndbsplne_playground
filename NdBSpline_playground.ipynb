{
 "cells": [
  {
   "cell_type": "markdown",
   "id": "7b8a3a6f",
   "metadata": {},
   "source": [
    "1D spline function of degree $k$ is defined by the knot vector $t$ and coefficients, $c$, via\n",
    "\n",
    "$$\n",
    "S(x) = \\sum_{j=1}^{n} c_j B_{j; t}(x)\n",
    "$$\n",
    "\n",
    "where $B_j; t(x)$ are the b-spline basis elements. A key feature of the b-spline basis elements is that they are _localized_ : $B_{j; t}(x) \\neq 0$ only for $t_{j-k} \\leqslant x \\leqslant t_{j+1}$. Therefore, the sum above has only $k+1$ non-zero terms for a given value of $x$.\n",
    "\n",
    "For an N-dimensional generalization, we define $N$ knots vectors, $t_d$, for $d=1,\\dots, N$. To lighten the notation where possible, we from now on use lower subscripts, $t_d$, to enumerate knot _vectors_, not their individual elements. To index the latter we will use the double index: $t_{d; j}$ is the $j$-th element of $t_d$.\n",
    "\n",
    "Each knot vector defines its set of $B_{j_d; t_d}$ basis elements, and the tensor product spline function is a linear combination of their tensor products. Specifically, for an $N$-dimensional vector $\\vec{x} = (x_1, \\cdots, x_N)$, a tensor product spline function is defined via\n",
    "\n",
    "$$\n",
    "S_N(\\vec{x}) = \\sum_{j_1}^{n_1}\\cdots \\sum_{j_N=1}^{n_N} c_{j_1, \\cdots, j_N} B_{j_1; t_1}(x_1) \\cdots B_{j_N; t_N}(x_N) \\qquad (1)\n",
    "$$\n",
    "\n",
    "Note the coefficients, $c_{j_1, j_2, \\cdots, j_N}$,  now carry $N$ indices. Also for simplicity we assumed that the spline degrees is $k$ for all dimensions (this can be easily generalized). \n",
    "\n",
    "For a given value of input vector, $\\vec{x}$, the sum above has at most $(k+1)^N$ non-zero elements. Let $s_d$ are indices into $t$ vectors, such that\n",
    "\n",
    "$$\n",
    "t_{d; s_d} \\leqslant x_d \\leqslant t_{d; s_d + 1}    \\qquad (2)\n",
    "$$\n",
    "\n",
    "Then, the $S_N(\\vec{x})$ function is identically\n",
    "\n",
    "$$\n",
    "S_N(\\vec{x}) = \\sum_{i_1 = s_1 - k +1}^{s_1+1} \\cdots \\sum_{i_N = s_N - k +1}^{s_N + 1} %\n",
    "         c_{i_1, \\cdots, i_N} B_{i_1; t_1}(x_1) \\cdots B_{i_N; t_N}(x_N)  \\qquad (3)\n",
    "$$\n",
    "\n",
    "Thus, computing the value of $S_N(\\vec{x})$ is a two-step process: first, find the indices, $s_d$; second, form linear combinations (3). \n",
    "\n",
    "For performance reasons, the second step is best done on a flattened array of coefficients. The correspondence between the \"flat\" index and indices $i_1, \\cdots, i_N$ is given by `np.unravel_index` and `np.ravel_multi_index`. Moreover, since the shape of the $c$ array is fixed, these functions can be inlined into stride manipulations."
   ]
  },
  {
   "cell_type": "markdown",
   "id": "5f7233ab",
   "metadata": {},
   "source": [
    "# TODO\n",
    "\n",
    "1. NdBSpline: a tuple of non-zero b-spline vectors\n",
    "2. *[DONE]* Tests with 2D\n",
    "3. *[DONE]* and 3D\n",
    "4. *[DONE]* vector of `x`   + tests\n",
    "5. *[DONE]* trailing dimensions of `c`: reshape, loop, reshape back + tests\n",
    "6. *[DONE]* test 2D random, non-separable\n",
    "7. *[DONE]* test mixed degrees: k = [2, 3] etc\n",
    "8. *[DONE]* test against NdBSpline0\n",
    "9. *[DONE]* consistency checks of input data\n",
    "10. complex-valued coefficients\n",
    "--\n",
    "\n",
    "11. *[DONE]* get rid of `itertools.product` : iterate over c.flat (subarray!)\n",
    "12. *[DONE]* change np.unravel_index / ravel_multi_index to stride manipulation (indices / pointers!)"
   ]
  },
  {
   "cell_type": "code",
   "execution_count": 1,
   "id": "983546ff",
   "metadata": {},
   "outputs": [],
   "source": [
    "import operator\n",
    "import itertools\n",
    "\n",
    "import numpy as np"
   ]
  },
  {
   "cell_type": "code",
   "execution_count": 2,
   "id": "32894c9c",
   "metadata": {},
   "outputs": [],
   "source": [
    "def B(x, k, i, t):\n",
    "    if k == 0:\n",
    "        return 1.0 if t[i] <= x < t[i+1] else 0.0\n",
    "    if t[i+k] == t[i]:\n",
    "        c1 = 0.0\n",
    "    else:\n",
    "        c1 = (x - t[i])/(t[i+k] - t[i]) * B(x, k-1, i, t)\n",
    "    if t[i+k+1] == t[i+1]:\n",
    "        c2 = 0.0\n",
    "    else:\n",
    "        c2 = (t[i+k+1] - x)/(t[i+k+1] - t[i+1]) * B(x, k-1, i+1, t)\n",
    "    return c1 + c2\n",
    "\n",
    "def bspline(x, t, c, k):\n",
    "    n = len(t) - k - 1\n",
    "    assert (n >= k+1) and (len(c) >= n)\n",
    "    return sum(c[i] * B(x, k, i, t) for i in range(n))"
   ]
  },
  {
   "cell_type": "code",
   "execution_count": 3,
   "id": "e71df369",
   "metadata": {},
   "outputs": [],
   "source": [
    "def _naive_eval(x, t, c, k):\n",
    "    \"\"\"\n",
    "    Naive B-spline evaluation. Useful only for testing!\n",
    "    \"\"\"\n",
    "    if x == t[k]:\n",
    "        i = k\n",
    "    else:\n",
    "        i = np.searchsorted(t, x) - 1\n",
    "    assert t[i] <= x <= t[i+1]\n",
    "    assert i >= k and i < len(t) - k\n",
    "    return sum(c[i-j] * B(x, k, i-j, t) for j in range(0, k+1))"
   ]
  },
  {
   "cell_type": "code",
   "execution_count": 4,
   "id": "332d8e12",
   "metadata": {},
   "outputs": [
    {
     "ename": "NameError",
     "evalue": "name 'spl' is not defined",
     "output_type": "error",
     "traceback": [
      "\u001b[0;31m---------------------------------------------------------------------------\u001b[0m",
      "\u001b[0;31mNameError\u001b[0m                                 Traceback (most recent call last)",
      "\u001b[0;32m<ipython-input-4-20181ea6a97b>\u001b[0m in \u001b[0;36m<module>\u001b[0;34m\u001b[0m\n\u001b[0;32m----> 1\u001b[0;31m \u001b[0m_naive_eval\u001b[0m\u001b[0;34m(\u001b[0m\u001b[0;36m1.5\u001b[0m\u001b[0;34m,\u001b[0m \u001b[0mspl\u001b[0m\u001b[0;34m.\u001b[0m\u001b[0mt\u001b[0m\u001b[0;34m,\u001b[0m \u001b[0mspl\u001b[0m\u001b[0;34m.\u001b[0m\u001b[0mc\u001b[0m\u001b[0;34m,\u001b[0m \u001b[0;36m3\u001b[0m\u001b[0;34m)\u001b[0m\u001b[0;34m,\u001b[0m \u001b[0mspl\u001b[0m\u001b[0;34m(\u001b[0m\u001b[0;36m1.5\u001b[0m\u001b[0;34m)\u001b[0m\u001b[0;34m\u001b[0m\u001b[0;34m\u001b[0m\u001b[0m\n\u001b[0m",
      "\u001b[0;31mNameError\u001b[0m: name 'spl' is not defined"
     ]
    }
   ],
   "source": [
    "_naive_eval(1.5, spl.t, spl.c, 3), spl(1.5)"
   ]
  },
  {
   "cell_type": "code",
   "execution_count": 4,
   "id": "a662ec00",
   "metadata": {},
   "outputs": [],
   "source": [
    "import numpy as np\n",
    "from scipy.interpolate import make_interp_spline\n",
    "\n",
    "def prod(iterable):\n",
    "    \"\"\"\n",
    "    Product of a sequence of numbers.\n",
    "\n",
    "    Faster than np.prod for short lists like array shapes, and does\n",
    "    not overflow if using Python integers.\n",
    "    \"\"\"\n",
    "    product = 1\n",
    "    for x in iterable:\n",
    "        product *= x\n",
    "    return product\n",
    "\n",
    "\n",
    "def unravel_index(iflat, strides):\n",
    "    \"\"\"np.unravel_index replacement.\n",
    "    \n",
    "    NB: `strides` are element strides for indexing, not byte strides\n",
    "    that numpy machinery uses!\n",
    "    \"\"\"\n",
    "    val = iflat\n",
    "    idx = []\n",
    "    for i in range(len(strides)):\n",
    "        #breakpoint()\n",
    "        this = val // strides[i]\n",
    "        rest = val % strides[i]\n",
    "        idx.append(this)\n",
    "        val = rest\n",
    "    return tuple(idx)\n",
    "\n",
    "    # Here's how to prepare the strides array\n",
    "\n",
    "    # Replacement for `np.unravel_index(iflat, (k+1,)*ndim)`\n",
    "    # Prepare the 'strides' (these are index strides, not byte strides!)\n",
    "    strides = [-101]*ndim\n",
    "    for d in range(ndim):\n",
    "        strides[d] = (self.k[0] + 1)**d   # XXX: k[0] == k[1] == ... == k[ndim-1]\n",
    "    strides = strides[::-1]    "
   ]
  },
  {
   "cell_type": "code",
   "execution_count": 6,
   "id": "6f5b9738",
   "metadata": {},
   "outputs": [],
   "source": [
    "x = np.arange(6)\n",
    "y = x**3\n",
    "spl = make_interp_spline(x, y, k=3)"
   ]
  },
  {
   "cell_type": "code",
   "execution_count": 6,
   "id": "a3c69d0d",
   "metadata": {},
   "outputs": [
    {
     "data": {
      "text/plain": [
       "array([0., 0., 0., 0., 2., 3., 5., 5., 5., 5.])"
      ]
     },
     "execution_count": 6,
     "metadata": {},
     "output_type": "execute_result"
    }
   ],
   "source": [
    "spl.t"
   ]
  },
  {
   "cell_type": "code",
   "execution_count": null,
   "id": "48a9a099",
   "metadata": {},
   "outputs": [],
   "source": [
    "spl.c"
   ]
  },
  {
   "cell_type": "code",
   "execution_count": null,
   "id": "be44c74f",
   "metadata": {},
   "outputs": [],
   "source": [
    "y_1 = x**3 + 2*x\n",
    "spl_1 = make_interp_spline(x, y_1, k=3)\n",
    "spl_1.t, spl_1.c"
   ]
  },
  {
   "cell_type": "code",
   "execution_count": 8,
   "id": "71aed818",
   "metadata": {},
   "outputs": [
    {
     "ename": "NameError",
     "evalue": "name 'spl_1' is not defined",
     "output_type": "error",
     "traceback": [
      "\u001b[0;31m---------------------------------------------------------------------------\u001b[0m",
      "\u001b[0;31mNameError\u001b[0m                                 Traceback (most recent call last)",
      "\u001b[0;32m<ipython-input-8-c4d10d3bc8f3>\u001b[0m in \u001b[0;36m<module>\u001b[0;34m\u001b[0m\n\u001b[1;32m      1\u001b[0m \u001b[0;31m# make the outer product of 1D coefficients\u001b[0m\u001b[0;34m\u001b[0m\u001b[0;34m\u001b[0m\u001b[0;34m\u001b[0m\u001b[0m\n\u001b[1;32m      2\u001b[0m \u001b[0;34m\u001b[0m\u001b[0m\n\u001b[0;32m----> 3\u001b[0;31m \u001b[0mc2\u001b[0m \u001b[0;34m=\u001b[0m \u001b[0mnp\u001b[0m\u001b[0;34m.\u001b[0m\u001b[0mouter\u001b[0m\u001b[0;34m(\u001b[0m\u001b[0mspl_1\u001b[0m\u001b[0;34m.\u001b[0m\u001b[0mc\u001b[0m\u001b[0;34m,\u001b[0m \u001b[0mspl\u001b[0m\u001b[0;34m.\u001b[0m\u001b[0mc\u001b[0m\u001b[0;34m)\u001b[0m\u001b[0;34m\u001b[0m\u001b[0;34m\u001b[0m\u001b[0m\n\u001b[0m\u001b[1;32m      4\u001b[0m \u001b[0;34m\u001b[0m\u001b[0m\n\u001b[1;32m      5\u001b[0m \u001b[0;32mwith\u001b[0m \u001b[0mnp\u001b[0m\u001b[0;34m.\u001b[0m\u001b[0mprintoptions\u001b[0m\u001b[0;34m(\u001b[0m\u001b[0msuppress\u001b[0m\u001b[0;34m=\u001b[0m\u001b[0;32mTrue\u001b[0m\u001b[0;34m,\u001b[0m \u001b[0mlinewidth\u001b[0m\u001b[0;34m=\u001b[0m\u001b[0;36m100\u001b[0m\u001b[0;34m)\u001b[0m\u001b[0;34m:\u001b[0m\u001b[0;34m\u001b[0m\u001b[0;34m\u001b[0m\u001b[0m\n",
      "\u001b[0;31mNameError\u001b[0m: name 'spl_1' is not defined"
     ]
    }
   ],
   "source": [
    "# make the outer product of 1D coefficients\n",
    "\n",
    "c2 = np.outer(spl_1.c, spl.c)\n",
    "\n",
    "with np.printoptions(suppress=True, linewidth=100):\n",
    "    print(c2)"
   ]
  },
  {
   "cell_type": "code",
   "execution_count": 5,
   "id": "e822e0d7",
   "metadata": {},
   "outputs": [],
   "source": [
    "def bspline2(xy, t, c, k):\n",
    "    x, y = xy\n",
    "    tx, ty = t\n",
    "    nx = len(tx) - k - 1\n",
    "    assert (nx >= k+1)\n",
    "    ny = len(ty) - k - 1\n",
    "    assert (ny >= k+1)\n",
    "    return sum(c[ix, iy] * B(x, k, ix, tx) * B(y, k, iy, ty) for ix in range(nx) for iy in range(ny))"
   ]
  },
  {
   "cell_type": "code",
   "execution_count": 8,
   "id": "2d98a7c6",
   "metadata": {},
   "outputs": [
    {
     "ename": "NameError",
     "evalue": "name 'spl_1' is not defined",
     "output_type": "error",
     "traceback": [
      "\u001b[0;31m---------------------------------------------------------------------------\u001b[0m",
      "\u001b[0;31mNameError\u001b[0m                                 Traceback (most recent call last)",
      "\u001b[0;32m<ipython-input-8-144bf2b96e72>\u001b[0m in \u001b[0;36m<module>\u001b[0;34m\u001b[0m\n\u001b[1;32m      1\u001b[0m \u001b[0;32mfor\u001b[0m \u001b[0mx0\u001b[0m\u001b[0;34m,\u001b[0m \u001b[0my0\u001b[0m \u001b[0;32min\u001b[0m \u001b[0;34m[\u001b[0m\u001b[0;34m(\u001b[0m\u001b[0;36m1.5\u001b[0m\u001b[0;34m,\u001b[0m \u001b[0;36m0.5\u001b[0m\u001b[0;34m)\u001b[0m\u001b[0;34m,\u001b[0m \u001b[0;34m(\u001b[0m\u001b[0;36m2.5\u001b[0m\u001b[0;34m,\u001b[0m \u001b[0;36m1\u001b[0m\u001b[0;34m)\u001b[0m\u001b[0;34m,\u001b[0m \u001b[0;34m(\u001b[0m\u001b[0;36m0.5\u001b[0m\u001b[0;34m,\u001b[0m \u001b[0;36m1.5\u001b[0m\u001b[0;34m)\u001b[0m\u001b[0;34m]\u001b[0m\u001b[0;34m:\u001b[0m\u001b[0;34m\u001b[0m\u001b[0;34m\u001b[0m\u001b[0m\n\u001b[1;32m      2\u001b[0m     print((x0**3 + 2*x0)* y0**3, ' -- ',\n\u001b[0;32m----> 3\u001b[0;31m           bspline2((x0, y0), (spl.t, spl_1.t), c2, k=3))\n\u001b[0m",
      "\u001b[0;31mNameError\u001b[0m: name 'spl_1' is not defined"
     ]
    }
   ],
   "source": [
    "for x0, y0 in [(1.5, 0.5), (2.5, 1), (0.5, 1.5)]:\n",
    "    print((x0**3 + 2*x0)* y0**3, ' -- ',\n",
    "          bspline2((x0, y0), (spl.t, spl_1.t), c2, k=3))"
   ]
  },
  {
   "cell_type": "code",
   "execution_count": null,
   "id": "fff30a0e",
   "metadata": {},
   "outputs": [],
   "source": [
    "(0.5**3 + 2*0.5) * 1.5**3"
   ]
  },
  {
   "cell_type": "code",
   "execution_count": 6,
   "id": "8f1d9528",
   "metadata": {},
   "outputs": [],
   "source": [
    "class NdBSpline0:\n",
    "    def __init__(self, t, c, k=3):\n",
    "        \"\"\"Tensor product spline object.\n",
    "        \n",
    "        c[i1, i2, ..., id] * B(x1, i1) * B(x2, i2) * ... * B(xd, id)\n",
    "        \n",
    "        \n",
    "        Parameters\n",
    "        ----------\n",
    "        c : ndarray, shape (n1, n2, ..., nd, ...)\n",
    "            b-spline coefficients\n",
    "        t : tuple of 1D ndarrays\n",
    "            knot vectors in directions 1, 2, ... d\n",
    "            ``len(t[i]) == n[i] + k + 1``\n",
    "        k : int or length-d tuple of integers\n",
    "            spline degrees.\n",
    "        \"\"\"\n",
    "        ndim = len(t)\n",
    "        assert ndim <= len(c.shape)\n",
    "        \n",
    "        try:\n",
    "            len(k)\n",
    "        except TypeError:\n",
    "            # make k a tuple\n",
    "            k = (k,)*ndim\n",
    "\n",
    "        self.k = tuple(operator.index(ki) for ki in k)\n",
    "        self.t = tuple(np.asarray(ti, dtype=float) for ti in t)\n",
    "        self.c = c\n",
    "\n",
    "    def __call__(self, x):\n",
    "        ndim = len(self.t)\n",
    "        # a single evaluation point: `x` is a 1D array_like, shape (ndim,)\n",
    "        assert len(x) == ndim\n",
    "        \n",
    "        # get the indices in an ndim-dimensional vector\n",
    "        i = ['none',]*ndim\n",
    "        for d in range(ndim):\n",
    "            td, xd = self.t[d], x[d]\n",
    "            k = self.k[d]\n",
    "            \n",
    "            # find the index for x[d]\n",
    "            if xd == td[k]:\n",
    "                i[d] = k\n",
    "            else:\n",
    "                i[d] = np.searchsorted(td, xd) - 1\n",
    "            assert td[i[d]] <= xd <= td[i[d]+1]\n",
    "            assert i[d] >= k and i[d] < len(td) - k\n",
    "        i = tuple(i)\n",
    "        \n",
    "        # iterate over the dimensions, form linear combinations of\n",
    "        # products B(x_1) * B(x_2) * ... B(x_N) of (k+1)**N b-splines\n",
    "        # which are non-zero at `i = (i_1, i_2, ..., i_N)`.\n",
    "        result = 0\n",
    "        iters = [range(i[d] - self.k[d], i[d] + 1) for d in range(ndim)]\n",
    "        for idx in itertools.product(*iters):\n",
    "            term = self.c[idx] * prod(B(x[d], self.k[d], idx[d], self.t[d]) for d in range(ndim))\n",
    "            result += term\n",
    "        return result"
   ]
  },
  {
   "cell_type": "code",
   "execution_count": 217,
   "id": "72ffa438",
   "metadata": {},
   "outputs": [],
   "source": [
    "def _get_dtype(dtype):\n",
    "    \"\"\"Return np.complex128 for complex dtypes, np.float64 otherwise.\"\"\"\n",
    "    if np.issubdtype(dtype, np.complexfloating):\n",
    "        return np.complex_\n",
    "    else:\n",
    "        return np.float_\n",
    "    \n",
    "\n",
    "class NdBSpline:\n",
    "    \"\"\"Tensor product spline object.\n",
    "\n",
    "    c[i1, i2, ..., id] * B(x1, i1) * B(x2, i2) * ... * B(xd, id)\n",
    "\n",
    "    Parameters\n",
    "    ----------\n",
    "    c : ndarray, shape (n1, n2, ..., nd, ...)\n",
    "        b-spline coefficients\n",
    "    t : tuple of 1D ndarrays\n",
    "        knot vectors in directions 1, 2, ... d\n",
    "        ``len(t[i]) == n[i] + k + 1``\n",
    "    k : int or length-d tuple of integers\n",
    "        spline degrees.\n",
    "    \"\"\"\n",
    "    def __init__(self, t, c, k=3):\n",
    "        ndim = len(t)\n",
    "        assert ndim <= len(c.shape)\n",
    "        \n",
    "        try:\n",
    "            len(k)\n",
    "        except TypeError:\n",
    "            # make k a tuple\n",
    "            k = (k,)*ndim\n",
    "\n",
    "        self.k = tuple(operator.index(ki) for ki in k)\n",
    "        self.t = tuple(np.ascontiguousarray(ti, dtype=float) for ti in t)\n",
    "        self.c = np.asarray(c)\n",
    "        \n",
    "        if len(k) != ndim:\n",
    "            raise ValueError(f\"len(t) = {ndim} != {len(k)} = len(k)\")\n",
    "\n",
    "        for d in range(ndim):\n",
    "            td = self.t[d]\n",
    "            kd = self.k[d]\n",
    "            n = td.shape[0] - kd - 1\n",
    "            if kd < 0:\n",
    "                raise ValueError(f\"Spline degree in dimension {d} cannot be negative.\")\n",
    "            if td.ndim != 1:\n",
    "                raise ValueError(f\"Knot vector in dimension {d} must be one-dimensional.\")           \n",
    "            if n < kd + 1:\n",
    "                raise ValueError(f\"Need at least {2*kd + 2} knots for degree {kd}\"\n",
    "                                 f\" in dimension {d}.\")\n",
    "            if (np.diff(td) < 0).any():\n",
    "                raise ValueError(f\"Knots in dimension {d} must be in a non-decreasing order.\")\n",
    "            if len(np.unique(td[kd:n + 1])) < 2:\n",
    "                raise ValueError(f\"Need at least two internal knots in dimension {d}.\")\n",
    "            if not np.isfinite(td).all():\n",
    "                raise ValueError(f\"Knots in dimension {d} should not have nans or infs.\")\n",
    "            if self.c.ndim < ndim:\n",
    "                raise ValueError(f\"Coefficients must be at least {d}-dimensional.\")\n",
    "            if self.c.shape[d] < n:\n",
    "                raise ValueError(f\"Knots, coefficients and degree in dimension {d} are inconsistent:\"\n",
    "                                 f\" got {self.c.shape[d]} coefficients for {len(td)} knots,\"\n",
    "                                 f\" need at least {n} for k={k}.\")            \n",
    "\n",
    "        dt = _get_dtype(self.c.dtype)\n",
    "        self.c = np.ascontiguousarray(self.c, dtype=dt)\n",
    "                                 \n",
    "        # tabulate the flat indices for iterating over the (k+1)**ndim subarray\n",
    "        shape = tuple(kd + 1 for kd in self.k)\n",
    "        indices = np.unravel_index( np.arange(prod(shape)), shape)\n",
    "        self._indices_k1d = np.asarray(indices).T\n",
    "        \n",
    "    def __call__(self, xi):\n",
    "        \"\"\"Evaluate the tensor product b-spline at coordinates.\n",
    "        \n",
    "        Parameters\n",
    "        ----------\n",
    "        xi : array_like, shape(..., ndim)\n",
    "            The coordinates to evaluate the interpolator at.\n",
    "            This can be a list or tuple of ndim-dimensional points\n",
    "            or an array with the shape (num_points, ndim).\n",
    "            \n",
    "        Returns\n",
    "        -------\n",
    "        values : ndarray, shape xi.shape[:-1] + self.c.shape[ndim:]\n",
    "            Interpolated values at xi\n",
    "        \"\"\"\n",
    "        ndim = len(self.t)\n",
    "\n",
    "        # prepare xi : shape (..., m1, ..., md) -> (1, m1, ..., md)\n",
    "        xi = np.asarray(xi, dtype=float)\n",
    "        xi_shape = xi.shape\n",
    "        xi = xi.reshape(-1, xi_shape[-1])        \n",
    "        xi = np.ascontiguousarray(xi)\n",
    "\n",
    "        if xi_shape[-1] != ndim:\n",
    "            raise ValueError(f\"Shapes: xi.shape={xi_shape} and ndim={ndim}\")\n",
    "        assert xi_shape[-1] == xi.shape[-1]\n",
    "        \n",
    "        # prepare the coefficients: flatten the trailing dimensions\n",
    "        c1 = self.c.reshape(self.c.shape[:ndim] + (-1,))\n",
    "        c1r = c1.ravel()\n",
    "        assert c1r.flags.c_contiguous\n",
    "        \n",
    "        num_c_tr = c1.shape[-1]  # # of trailing coefficients\n",
    "        out = np.empty(xi.shape[:-1] + (num_c_tr,), dtype=float)    \n",
    "\n",
    "        # replacement for np.ravel_multi_index for indexing of `c1`\n",
    "        strides_c1 = [1]*(ndim + 1)\n",
    "        for d in range(ndim-1, -1, -1):\n",
    "            strides_c1[d] = strides_c1[d+1] * c1.shape[d+1]\n",
    "        assert strides_c1 == [_//8 for _ in c1.strides]\n",
    "        assert strides_c1[-1] == 1\n",
    "\n",
    "        # 'intervals': indices for a point in xi into the knot arrays t\n",
    "        i = [-101,]*ndim\n",
    "        # container for non-zero b-splines at each point in xi\n",
    "        b = np.empty((ndim, max(self.k)+1), dtype=float) * np.nan\n",
    "\n",
    "        ### Finally, iterate over the data points\n",
    "        for j in range(xi.shape[0]):           \n",
    "            x = xi[j]\n",
    "\n",
    "            # get the indices in an ndim-dimensional vector\n",
    "            for d in range(ndim):\n",
    "                td, xd = self.t[d], x[d]\n",
    "                k = self.k[d]\n",
    "\n",
    "                # find the index for x[d]\n",
    "                if xd == td[k]:\n",
    "                    i[d] = k\n",
    "                else:\n",
    "                    i[d] = np.searchsorted(td, xd) - 1\n",
    "                assert td[i[d]] <= xd <= td[i[d]+1]\n",
    "                assert i[d] >= k and i[d] < len(td) - k\n",
    "\n",
    "                # (k+1) b-splines which are non-zero at x[d] \n",
    "                b[d, :k+1] = [B(xd, k, j, td) for j in range(i[d]-k, i[d]+1)]   \n",
    "\n",
    "            # iterate over the dimensions, form linear combinations of\n",
    "            # products B(x_1) * B(x_2) * ... B(x_N) of (k+1)**N b-splines\n",
    "            # which are non-zero at `i = (i_1, i_2, ..., i_N)`.\n",
    "            result = np.zeros(num_c_tr, dtype=float)\n",
    "            iters = [range(i[d] - self.k[d], i[d] + 1) for d in range(ndim)]\n",
    "            for idx in itertools.product(*iters):\n",
    "                factor = prod(b[d, idx[d] - i[d] + self.k[d]] for d in range(ndim))\n",
    "                # loop over the trailing values of self.c explicitly\n",
    "                for i_c in range(num_c_tr):\n",
    "                    result[i_c] += c1[idx + (i_c,)] * factor\n",
    "            \n",
    "            \n",
    "            ### The above is in principle enough for a prototype.  ###\n",
    "            ### Replicate it with flat indexing below.             ###\n",
    "            result_flat = np.zeros(num_c_tr, dtype=float)\n",
    "            \n",
    "            volume = prod([k+1 for k in self.k])  # (k+1)**ndim\n",
    "            for iflat in range(volume):\n",
    "                # idx_b = np.unravel_index(iflat, (k+1,)*ndim)   # equiv below\n",
    "                idx_b = self._indices_k1d[iflat, :]\n",
    "                assert all(idx_b == np.unravel_index(iflat, [kd+1 for kd in self.k])) # (k+1,)*ndim))\n",
    "                \n",
    "                # 1. Shift the subblock indices into indices into c1.ravel()\n",
    "                # 2. Collect the product of non-zero b-splines at this value of the $x$ vector\n",
    "                # 3. Compute the base index for iterating over the c1 array\n",
    "                idx_c = [-101]*ndim\n",
    "                idx_cflat_base = 0\n",
    "                factor = 1.0\n",
    "                for d in range(ndim):\n",
    "                    factor *= b[d, idx_b[d]]\n",
    "                    idx_c[d] = idx_b[d] + i[d] - self.k[d]             # XXX: remove later\n",
    "                    idx_cflat_base += idx_c[d] * strides_c1[d]\n",
    "\n",
    "                ##### double-check the above loop -- XXX: remove later\n",
    "                # Product of non-zero bsplines at this value of the $x$ vector.\n",
    "                factor2 = prod(b[d, idx_b[d]] for d in range(ndim))\n",
    "        \n",
    "                # shift the indices into c1.ravel()\n",
    "                idx_c2 = list(idx_b)\n",
    "                for d in range(ndim):\n",
    "                    idx_c2[d] += i[d] - self.k[d] \n",
    "\n",
    "                idx_cflat_base2 = sum(idx_c[d] * strides_c1[d] for d in range(ndim))\n",
    "                    \n",
    "                assert idx_c2 == idx_c\n",
    "                assert factor == factor2\n",
    "                assert idx_cflat_base == idx_cflat_base2\n",
    "                ####### end double-check\n",
    "                    \n",
    "                ### collect linear combinations of coef * factor\n",
    "                for i_c in range(num_c_tr):\n",
    "                    # this is equivalent to \n",
    "                    # idx_cflat = np.ravel_multi_index(tuple(idx_c) + (i_c,), c1.shape)\n",
    "                    # we pre-computed the first ndim strides of `c1r` array and use the\n",
    "                    # fact that the `c1r` array is C-ordered by construction\n",
    "                    result_flat[i_c] += c1r[idx_cflat_base + i_c] * factor\n",
    "                    out[j, i_c] = result_flat[i_c]\n",
    "\n",
    "            # XXX: remove later\n",
    "            from numpy.testing import assert_allclose\n",
    "            assert_allclose(result, out[j, :], atol=1e-15)\n",
    "            \n",
    "            # copy the result over: this is in fact a loop over num_c_tr\n",
    "            #out[j, ...] = result_flat\n",
    "            \n",
    "        return out.reshape(xi_shape[:-1] + self.c.shape[ndim:])"
   ]
  },
  {
   "cell_type": "code",
   "execution_count": 11,
   "id": "bfe66706",
   "metadata": {},
   "outputs": [
    {
     "ename": "NameError",
     "evalue": "name 'spl_1' is not defined",
     "output_type": "error",
     "traceback": [
      "\u001b[0;31m---------------------------------------------------------------------------\u001b[0m",
      "\u001b[0;31mNameError\u001b[0m                                 Traceback (most recent call last)",
      "\u001b[0;32m<ipython-input-11-08207e4f829b>\u001b[0m in \u001b[0;36m<module>\u001b[0;34m\u001b[0m\n\u001b[0;32m----> 1\u001b[0;31m \u001b[0mbspl2\u001b[0m \u001b[0;34m=\u001b[0m \u001b[0mNdBSpline\u001b[0m\u001b[0;34m(\u001b[0m\u001b[0;34m(\u001b[0m\u001b[0mspl\u001b[0m\u001b[0;34m.\u001b[0m\u001b[0mt\u001b[0m\u001b[0;34m,\u001b[0m \u001b[0mspl_1\u001b[0m\u001b[0;34m.\u001b[0m\u001b[0mt\u001b[0m\u001b[0;34m)\u001b[0m\u001b[0;34m,\u001b[0m \u001b[0mc2\u001b[0m\u001b[0;34m,\u001b[0m \u001b[0mk\u001b[0m\u001b[0;34m=\u001b[0m\u001b[0;36m3\u001b[0m\u001b[0;34m)\u001b[0m\u001b[0;34m\u001b[0m\u001b[0;34m\u001b[0m\u001b[0m\n\u001b[0m\u001b[1;32m      2\u001b[0m \u001b[0;34m\u001b[0m\u001b[0m\n\u001b[1;32m      3\u001b[0m \u001b[0;32mfor\u001b[0m \u001b[0mx0\u001b[0m\u001b[0;34m,\u001b[0m \u001b[0my0\u001b[0m \u001b[0;32min\u001b[0m \u001b[0;34m[\u001b[0m\u001b[0;34m(\u001b[0m\u001b[0;36m1.5\u001b[0m\u001b[0;34m,\u001b[0m \u001b[0;36m2.5\u001b[0m\u001b[0;34m)\u001b[0m\u001b[0;34m,\u001b[0m \u001b[0;34m(\u001b[0m\u001b[0;36m2.5\u001b[0m\u001b[0;34m,\u001b[0m \u001b[0;36m1\u001b[0m\u001b[0;34m)\u001b[0m\u001b[0;34m,\u001b[0m \u001b[0;34m(\u001b[0m\u001b[0;36m0.5\u001b[0m\u001b[0;34m,\u001b[0m \u001b[0;36m1.5\u001b[0m\u001b[0;34m)\u001b[0m\u001b[0;34m]\u001b[0m\u001b[0;34m:\u001b[0m\u001b[0;34m\u001b[0m\u001b[0;34m\u001b[0m\u001b[0m\n\u001b[1;32m      4\u001b[0m     print((x0**3 + 2*x0)* y0**3, ' -- ',\n\u001b[1;32m      5\u001b[0m           \u001b[0mbspline2\u001b[0m\u001b[0;34m(\u001b[0m\u001b[0;34m(\u001b[0m\u001b[0mx0\u001b[0m\u001b[0;34m,\u001b[0m \u001b[0my0\u001b[0m\u001b[0;34m)\u001b[0m\u001b[0;34m,\u001b[0m \u001b[0;34m(\u001b[0m\u001b[0mspl\u001b[0m\u001b[0;34m.\u001b[0m\u001b[0mt\u001b[0m\u001b[0;34m,\u001b[0m \u001b[0mspl_1\u001b[0m\u001b[0;34m.\u001b[0m\u001b[0mt\u001b[0m\u001b[0;34m)\u001b[0m\u001b[0;34m,\u001b[0m \u001b[0mc2\u001b[0m\u001b[0;34m,\u001b[0m \u001b[0mk\u001b[0m\u001b[0;34m=\u001b[0m\u001b[0;36m3\u001b[0m\u001b[0;34m)\u001b[0m\u001b[0;34m,\u001b[0m \u001b[0;34m'--'\u001b[0m\u001b[0;34m,\u001b[0m\u001b[0;34m\u001b[0m\u001b[0;34m\u001b[0m\u001b[0m\n",
      "\u001b[0;31mNameError\u001b[0m: name 'spl_1' is not defined"
     ]
    }
   ],
   "source": [
    "bspl2 = NdBSpline((spl.t, spl_1.t), c2, k=3)\n",
    "\n",
    "for x0, y0 in [(1.5, 2.5), (2.5, 1), (0.5, 1.5)]:\n",
    "    print((x0**3 + 2*x0)* y0**3, ' -- ',\n",
    "          bspline2((x0, y0), (spl.t, spl_1.t), c2, k=3), '--',\n",
    "         ## naive_B_2((x0, y0), (spl.t, spl_1.t), c2, k=3), )\n",
    "          bspl2((x0, y0))\n",
    "         )"
   ]
  },
  {
   "cell_type": "code",
   "execution_count": null,
   "id": "c3219447",
   "metadata": {},
   "outputs": [],
   "source": [
    "bspl2([(1.5, 2.5), (2.5, 1), (0.5, 1.5)])"
   ]
  },
  {
   "cell_type": "code",
   "execution_count": null,
   "id": "306d62fc",
   "metadata": {},
   "outputs": [],
   "source": [
    "spl2 = NdBSpline((spl.t, spl_1.t), c2, k=3)\n",
    "\n",
    "spl2((1.5, 2.5))"
   ]
  },
  {
   "cell_type": "code",
   "execution_count": null,
   "id": "8fa15443",
   "metadata": {},
   "outputs": [],
   "source": [
    "spl.t, spl_1.t"
   ]
  },
  {
   "cell_type": "code",
   "execution_count": null,
   "id": "e34722d6",
   "metadata": {},
   "outputs": [],
   "source": [
    "k = 3\n",
    "p = itertools.product(*(range(0, k+1),)*3)\n",
    "for j, tpl in enumerate(p):\n",
    "    #print(j, tpl, a[tpl])\n",
    "    pass"
   ]
  },
  {
   "cell_type": "markdown",
   "id": "4f798b2f",
   "metadata": {},
   "source": [
    "# Tests"
   ]
  },
  {
   "cell_type": "code",
   "execution_count": 8,
   "id": "93c60c43",
   "metadata": {},
   "outputs": [],
   "source": [
    "def bspline2(xy, t, c, k):\n",
    "    \"\"\"A naive 2D tensort product spline evaluation.\"\"\"\n",
    "    x, y = xy\n",
    "    tx, ty = t\n",
    "    nx = len(tx) - k - 1\n",
    "    assert (nx >= k+1)\n",
    "    ny = len(ty) - k - 1\n",
    "    assert (ny >= k+1)\n",
    "    return sum(c[ix, iy] * B(x, k, ix, tx) * B(y, k, iy, ty) for ix in range(nx) for iy in range(ny))\n",
    "\n",
    "\n",
    "def naive_B_2(xy, t, c, k):\n",
    "    \"\"\"\n",
    "    Naive B-spline evaluation, another way.\n",
    "    \"\"\"\n",
    "    x, y = xy\n",
    "    tx, ty = t\n",
    "    \n",
    "    if x == tx[k]:\n",
    "        ix = k\n",
    "    else:\n",
    "        ix = np.searchsorted(tx, x) - 1\n",
    "    assert tx[ix] <= x <= tx[ix + 1]\n",
    "    assert ix >= k and ix < len(tx) - k\n",
    "\n",
    "    if y == ty[k]:\n",
    "        iy = k\n",
    "    else:\n",
    "        iy = np.searchsorted(ty, y) - 1\n",
    "    assert ty[iy] <= y <= ty[iy + 1]\n",
    "    assert iy >= k and iy < len(ty) - k\n",
    "    \n",
    "    res = sum(c[ix-jx, iy - jy] * B(x, k, ix-jx, tx) * B(y, k, iy-jy, ty)\n",
    "               for jx in range(0, k+1) for jy in range(0, k+1))\n",
    "    \n",
    "    result = 0\n",
    "    for jx in range(ix-k, ix+1):\n",
    "        for jy in range(iy-k, iy+1):\n",
    "            result += c[jx, jy] * B(x, k, jx, tx) * B(y, k, jy, ty)\n",
    "            \n",
    "    assert np.allclose(result,  res) #, result-res\n",
    "    return result"
   ]
  },
  {
   "cell_type": "code",
   "execution_count": 218,
   "id": "68c46708",
   "metadata": {},
   "outputs": [],
   "source": [
    "from numpy.testing import assert_allclose\n",
    "from numpy.random import default_rng\n",
    "\n",
    "\n",
    "def make_2d_case():\n",
    "    # make a 2D separable spline\n",
    "    x = np.arange(6)\n",
    "    y = x**3\n",
    "    spl = make_interp_spline(x, y, k=3)\n",
    "    \n",
    "    y_1 = x**3 + 2*x\n",
    "    spl_1 = make_interp_spline(x, y_1, k=3)\n",
    "\n",
    "    t2 = (spl.t, spl_1.t)\n",
    "    #c2 = np.outer(spl_1.c, spl.c)\n",
    "    c2 = spl.c[:, None] * spl_1.c[None, :]\n",
    "    \n",
    "    return t2, c2, 3\n",
    "\n",
    "\n",
    "def make_2d_mixed():\n",
    "    # make a 2D separable spline w/ kx=3, ky=2\n",
    "    x = np.arange(6)\n",
    "    y = x**3\n",
    "    spl = make_interp_spline(x, y, k=3)\n",
    "    \n",
    "    x = np.arange(5) + 1.5\n",
    "    y_1 = x**2 + 2*x\n",
    "    spl_1 = make_interp_spline(x, y_1, k=2)\n",
    "\n",
    "    t2 = (spl.t, spl_1.t)\n",
    "    c2 = spl.c[:, None] * spl_1.c[None, :]    \n",
    "    \n",
    "    return t2, c2, spl.k, spl_1.k\n",
    "    "
   ]
  },
  {
   "cell_type": "code",
   "execution_count": 220,
   "id": "99299061",
   "metadata": {},
   "outputs": [
    {
     "name": "stdout",
     "output_type": "stream",
     "text": [
      ".\n",
      ".\n",
      ".\n",
      ".\n",
      ".\n"
     ]
    }
   ],
   "source": [
    "# test 2D\n",
    "\n",
    "def test_2D_separable():\n",
    "    print('.')\n",
    "    xi = [(1.5, 2.5), (2.5, 1), (0.5, 1.5)]  \n",
    "    t2, c2, k = make_2d_case()\n",
    "    target = [x**3 * (y**3 + 2*y) for (x, y) in xi]\n",
    "    \n",
    "    # sanity check: bspline2 gives the product as constructed\n",
    "    assert_allclose([bspline2(xy, t2, c2, k) for xy in xi],\n",
    "                    target,\n",
    "                    atol=1e-14)\n",
    "\n",
    "    # check evaluation on a 2D array: the 1D array of 2D points\n",
    "    bspl2 = NdBSpline(t2, c2, k=3)\n",
    "    assert bspl2(xi).shape == (len(xi), )\n",
    "    assert_allclose(bspl2(xi),\n",
    "                    target, atol=1e-14)\n",
    "    \n",
    "    # now check on a multidim xi\n",
    "    rng = default_rng(12345)\n",
    "    xi = rng.uniform(size=(4, 3, 2)) * 5\n",
    "    result = bspl2(xi)\n",
    "    assert result.shape == (4, 3)\n",
    "    \n",
    "    # also check the values\n",
    "    x, y = xi.reshape((-1, 2)).T\n",
    "    assert_allclose(result.ravel(),\n",
    "                    x**3 * (y**3 + 2*y), atol=1e-14)\n",
    "\n",
    "\n",
    "def test_2D_separable_2():\n",
    "    # test `c` with trailing dimensions, i.e. c.ndim > ndim\n",
    "    print('.')\n",
    "    ndim = 2\n",
    "    xi = [(1.5, 2.5), (2.5, 1), (0.5, 1.5)]  \n",
    "    target = [x**3 * (y**3 + 2*y) for (x, y) in xi]\n",
    "\n",
    "    t2, c2, k = make_2d_case()\n",
    "    c2_4 = np.dstack((c2, c2, c2, c2))   # c22.shape = (6, 6, 4)\n",
    "    \n",
    "    xy = (1.5, 2.5)\n",
    "    bspl2_4 = NdBSpline(t2, c2_4, k=3)\n",
    "    result = bspl2_4(xy)\n",
    "    val_single = NdBSpline(t2, c2, k)(xy)\n",
    "    assert result.shape == (4,)\n",
    "    assert_allclose(result,\n",
    "                    [val_single,]*4, atol=1e-14)\n",
    "    \n",
    "    # now try the array xi : the output.shape is (3, 4)\n",
    "    # where 3 is the number of points in xi and 4 is the trailing dimension of c\n",
    "    assert bspl2_4(xi).shape == np.shape(xi)[:-1] + bspl2_4.c.shape[ndim:]\n",
    "    assert_allclose(bspl2_4(xi) - np.asarray(target)[:, None],\n",
    "                    0, atol=5e-14)\n",
    "    \n",
    "    # two trailing dimensions\n",
    "    c2_22 = c2_4.reshape((6, 6, 2, 2))\n",
    "    bspl2_22 = NdBSpline(t2, c2_22, k=3)\n",
    "    \n",
    "    result = bspl2_22(xy)\n",
    "    assert result.shape == (2, 2)\n",
    "    assert_allclose(result,\n",
    "                    [[val_single, val_single],\n",
    "                     [val_single, val_single]], atol=1e-14)\n",
    "\n",
    "    # now try the array xi : the output shape is (3, 2, 2)\n",
    "    # for 3 points in xi and c trailing dimensions being (2, 2)\n",
    "    assert bspl2_22(xi).shape == np.shape(xi)[:-1] + bspl2_22.c.shape[ndim:]\n",
    "    assert_allclose(bspl2_22(xi) - np.asarray(target)[:, None, None],\n",
    "                    0, atol=5e-14)\n",
    "\n",
    "def test_2D_random():\n",
    "    print('.')\n",
    "    rng = default_rng(12345)\n",
    "    k = 3\n",
    "    tx = np.r_[0, 0, 0, 0, np.sort(rng.uniform(size=7)) * 3, 3, 3, 3, 3]\n",
    "    ty = np.r_[0, 0, 0, 0, np.sort(rng.uniform(size=8)) * 4, 4, 4, 4, 4]\n",
    "    c = rng.uniform(size=(tx.size-k-1, ty.size-k-1))\n",
    "    \n",
    "    spl = NdBSpline((tx, ty), c, k=k)\n",
    "    \n",
    "    xi = (1., 1.)\n",
    "    assert_allclose(spl(xi),\n",
    "                    bspline2(xi, (tx, ty), c, k), atol=1e-14)\n",
    "\n",
    "    xi = np.c_[[1, 1.5, 2],\n",
    "               [1.1, 1.6, 2.1]]\n",
    "    assert_allclose(spl(xi),\n",
    "                    [bspline2(xy, (tx, ty), c, k) for xy in xi], atol=1e-14)\n",
    "\n",
    "    \n",
    "def test_2D_mixed():\n",
    "    print('.')\n",
    "    t2, c2, kx, ky = make_2d_mixed()\n",
    "    ndim = 2\n",
    "    xi = [(1.4, 4.5), (2.5, 2.4), (4.5, 3.5)]\n",
    "    target = [x**3 * (y**2 + 2*y) for (x, y) in xi]    \n",
    "\n",
    "    bspl2 = NdBSpline(t2, c2, k=(kx, ky))\n",
    "    assert bspl2(xi).shape == (len(xi), )\n",
    "    assert_allclose(bspl2(xi),\n",
    "                    target, atol=1e-14)\n",
    "\n",
    "\n",
    "def test_2D_mixed_random():\n",
    "    print('.')\n",
    "    rng = default_rng(12345)\n",
    "    kx, ky = 2, 3\n",
    "    tx = np.r_[0, 0, 0, 0, np.sort(rng.uniform(size=7)) * 3, 3, 3, 3, 3]\n",
    "    ty = np.r_[0, 0, 0, 0, np.sort(rng.uniform(size=8)) * 4, 4, 4, 4, 4]\n",
    "    c = rng.uniform(size=(tx.size - kx - 1, ty.size - ky - 1))\n",
    "\n",
    "    xi = np.c_[[1, 1.5, 2],\n",
    "               [1.1, 1.6, 2.1]]\n",
    "\n",
    "    bspl2 = NdBSpline((tx, ty), c, k=(kx, ky))\n",
    "    bspl2_0 = NdBSpline0((tx, ty), c, k=(kx, ky))\n",
    "    \n",
    "    assert_allclose(bspl2(xi),\n",
    "                    [bspl2_0(xp) for xp in xi], atol=1e-14)\n",
    "    \n",
    "#### RUN test ###\n",
    "test_2D_separable()\n",
    "test_2D_separable_2()\n",
    "test_2D_random()\n",
    "test_2D_mixed()\n",
    "test_2D_mixed_random()"
   ]
  },
  {
   "cell_type": "code",
   "execution_count": 228,
   "id": "91e37f9c",
   "metadata": {},
   "outputs": [
    {
     "name": "stdout",
     "output_type": "stream",
     "text": [
      ".\n",
      ".\n"
     ]
    }
   ],
   "source": [
    "# test 3D\n",
    "\n",
    "def make_3d_case():\n",
    "    # make a 3D separable spline\n",
    "    x = np.arange(6)\n",
    "    y = x**3\n",
    "    spl = make_interp_spline(x, y, k=3)\n",
    "    \n",
    "    y_1 = x**3 + 2*x\n",
    "    spl_1 = make_interp_spline(x, y_1, k=3)\n",
    "\n",
    "    y_2 = x**3 + 3*x + 1\n",
    "    spl_2 = make_interp_spline(x, y_2, k=3)\n",
    "    \n",
    "    t2 = (spl.t, spl_1.t, spl_2.t)\n",
    "    c2 = spl.c[:, None, None] * spl_1.c[None, :, None] * spl_2.c[None, None, :]\n",
    "    \n",
    "    return t2, c2, 3\n",
    "\n",
    "\n",
    "def test_3D_separable():\n",
    "    print('.')\n",
    "    rng = default_rng(12345)\n",
    "    x, y, z = rng.uniform(size=(3, 11)) * 5\n",
    "    target = x**3 * (y**3 + 2*y) * (z**3 + 3*z + 1)\n",
    "\n",
    "    t3, c3, k = make_3d_case()\n",
    "    bspl3 = NdBSpline(t3, c3, k=3)\n",
    "\n",
    "    xi = [_ for _ in zip(x, y, z)]\n",
    "    result = bspl3(xi)\n",
    "    assert result.shape == (11,)\n",
    "    assert_allclose(result, target, atol=1e-14)\n",
    "    \n",
    "    \n",
    "def test_3D_random():\n",
    "    print('.')\n",
    "    rng = default_rng(12345)\n",
    "    k = 3\n",
    "    tx = np.r_[0, 0, 0, 0, np.sort(rng.uniform(size=7)) * 3, 3, 3, 3, 3]\n",
    "    ty = np.r_[0, 0, 0, 0, np.sort(rng.uniform(size=8)) * 4, 4, 4, 4, 4]\n",
    "    tz = np.r_[0, 0, 0, 0, np.sort(rng.uniform(size=8)) * 4, 4, 4, 4, 4]\n",
    "    c = rng.uniform(size=(tx.size-k-1, ty.size-k-1, tz.size-k-1))\n",
    "\n",
    "    spl = NdBSpline((tx, ty, tz), c, k=k)\n",
    "    spl_0 = NdBSpline0((tx, ty, tz), c, k=k)\n",
    "    \n",
    "    xi = (1., 1., 1)\n",
    "    assert_allclose(spl(xi), spl_0(xi), atol=1e-14)\n",
    "\n",
    "    xi = np.c_[[1, 1.5, 2],\n",
    "               [1.1, 1.6, 2.1],\n",
    "               [0.9, 1.4, 1.9]]\n",
    "    assert_allclose(spl(xi), [spl_0(xp) for xp in xi], atol=1e-14)\n",
    "    \n",
    "    \n",
    "def test_3D_random_complex():\n",
    "    print('.')\n",
    "    rng = default_rng(12345)\n",
    "    k = 3\n",
    "    tx = np.r_[0, 0, 0, 0, np.sort(rng.uniform(size=7)) * 3, 3, 3, 3, 3]\n",
    "    ty = np.r_[0, 0, 0, 0, np.sort(rng.uniform(size=8)) * 4, 4, 4, 4, 4]\n",
    "    tz = np.r_[0, 0, 0, 0, np.sort(rng.uniform(size=8)) * 4, 4, 4, 4, 4]\n",
    "    c = rng.uniform(size=(tx.size-k-1, ty.size-k-1, tz.size-k-1))\n",
    "    c += c*1j\n",
    "    \n",
    "    spl = NdBSpline((tx, ty, tz), c, k=k)\n",
    "    spl_re = NdBSpline0((tx, ty, tz), c.real, k=k)\n",
    "    spl_im = NdBSpline0((tx, ty, tz), c.imag, k=k)\n",
    "    \n",
    "    xi = np.c_[[1, 1.5, 2],\n",
    "               [1.1, 1.6, 2.1],\n",
    "               [0.9, 1.4, 1.9]]\n",
    "    assert_allclose(spl(xi),\n",
    "                    spl_re(xi) + 1j*spl_re[spl_0(xp) for xp in xi], atol=1e-14)\n",
    "\n",
    "    \n",
    "#### RUN test ###\n",
    "test_3D_separable()\n",
    "test_3D_random()"
   ]
  },
  {
   "cell_type": "markdown",
   "id": "ffe76005",
   "metadata": {},
   "source": [
    "### Scratch area"
   ]
  },
  {
   "cell_type": "code",
   "execution_count": 261,
   "id": "7e908bf4",
   "metadata": {},
   "outputs": [
    {
     "name": "stdout",
     "output_type": "stream",
     "text": [
      "[16, 4, 1]\n"
     ]
    }
   ],
   "source": [
    "ndim = 3\n",
    "k = 3\n",
    "\n",
    "\n",
    "arr = np.arange((k+1)**ndim, dtype=float).reshape((k+1,)*ndim)\n",
    "\n",
    "strides = [-101]*ndim\n",
    "for d in range(ndim):\n",
    "    strides[d] = (k+1)**d\n",
    "strides = strides[::-1]\n",
    "print(strides)\n",
    "\n",
    "for iflat in range((k+1)**ndim):\n",
    "    assert np.unravel_index(iflat, (k+1,)*ndim) == unravel_index(iflat, strides)\n"
   ]
  },
  {
   "cell_type": "code",
   "execution_count": 293,
   "id": "eac7ef49",
   "metadata": {},
   "outputs": [
    {
     "name": "stdout",
     "output_type": "stream",
     "text": [
      "908\n",
      "(4, 1, 2, 0)\n"
     ]
    }
   ],
   "source": [
    "arr = np.zeros((12, 11, 5, 4))\n",
    "flat_idx = np.ravel_multi_index((4, 1, 2, 0), arr.shape)\n",
    "print( flat_idx )\n",
    "print( np.unravel_index(flat_idx, arr.shape))"
   ]
  },
  {
   "cell_type": "code",
   "execution_count": 296,
   "id": "868dd181",
   "metadata": {},
   "outputs": [
    {
     "data": {
      "text/plain": [
       "[220, 20, 4, 1]"
      ]
     },
     "execution_count": 296,
     "metadata": {},
     "output_type": "execute_result"
    }
   ],
   "source": [
    "[_//8 for _ in arr.strides]"
   ]
  },
  {
   "cell_type": "code",
   "execution_count": 297,
   "id": "ceda4887",
   "metadata": {},
   "outputs": [
    {
     "name": "stdout",
     "output_type": "stream",
     "text": [
      "[1, 1, 1, 1]\n",
      "2\n",
      "1\n",
      "0\n"
     ]
    },
    {
     "data": {
      "text/plain": [
       "[220, 20, 4, 1]"
      ]
     },
     "execution_count": 297,
     "metadata": {},
     "output_type": "execute_result"
    }
   ],
   "source": [
    "ndim = arr.ndim - 1\n",
    "strides_c1 = [1]*(ndim + 1)\n",
    "print(strides_c1)\n",
    "for d in range(ndim-1, -1, -1):\n",
    "    strides_c1[d] = strides_c1[d+1] * arr.shape[d+1]\n",
    "strides_c1"
   ]
  },
  {
   "cell_type": "code",
   "execution_count": 295,
   "id": "e1531d65",
   "metadata": {},
   "outputs": [
    {
     "data": {
      "text/plain": [
       "(12, 11, 5, 4)"
      ]
     },
     "execution_count": 295,
     "metadata": {},
     "output_type": "execute_result"
    }
   ],
   "source": [
    "arr.shape"
   ]
  },
  {
   "cell_type": "code",
   "execution_count": 32,
   "id": "03de1dc6",
   "metadata": {},
   "outputs": [
    {
     "data": {
      "text/plain": [
       "(array([0, 0, 0, 1]), array([0, 0, 2, 2]), array([0, 1, 0, 3]))"
      ]
     },
     "execution_count": 32,
     "metadata": {},
     "output_type": "execute_result"
    }
   ],
   "source": [
    "k, ndim = 3, 3\n",
    "np.unravel_index( np.arange(k+1)**ndim, (k+1,)*ndim)"
   ]
  },
  {
   "cell_type": "code",
   "execution_count": 39,
   "id": "1547b41d",
   "metadata": {},
   "outputs": [],
   "source": [
    "indices = np.asarray( np.unravel_index( np.arange((k+1)**ndim), (k+1,)*ndim) )"
   ]
  },
  {
   "cell_type": "code",
   "execution_count": 40,
   "id": "c8f3b3de",
   "metadata": {},
   "outputs": [
    {
     "data": {
      "text/plain": [
       "array([[0, 0, 0, 0, 0, 0, 0, 0, 0, 0, 0, 0, 0, 0, 0, 0, 1, 1, 1, 1, 1, 1,\n",
       "        1, 1, 1, 1, 1, 1, 1, 1, 1, 1, 2, 2, 2, 2, 2, 2, 2, 2, 2, 2, 2, 2,\n",
       "        2, 2, 2, 2, 3, 3, 3, 3, 3, 3, 3, 3, 3, 3, 3, 3, 3, 3, 3, 3],\n",
       "       [0, 0, 0, 0, 1, 1, 1, 1, 2, 2, 2, 2, 3, 3, 3, 3, 0, 0, 0, 0, 1, 1,\n",
       "        1, 1, 2, 2, 2, 2, 3, 3, 3, 3, 0, 0, 0, 0, 1, 1, 1, 1, 2, 2, 2, 2,\n",
       "        3, 3, 3, 3, 0, 0, 0, 0, 1, 1, 1, 1, 2, 2, 2, 2, 3, 3, 3, 3],\n",
       "       [0, 1, 2, 3, 0, 1, 2, 3, 0, 1, 2, 3, 0, 1, 2, 3, 0, 1, 2, 3, 0, 1,\n",
       "        2, 3, 0, 1, 2, 3, 0, 1, 2, 3, 0, 1, 2, 3, 0, 1, 2, 3, 0, 1, 2, 3,\n",
       "        0, 1, 2, 3, 0, 1, 2, 3, 0, 1, 2, 3, 0, 1, 2, 3, 0, 1, 2, 3]])"
      ]
     },
     "execution_count": 40,
     "metadata": {},
     "output_type": "execute_result"
    }
   ],
   "source": [
    "indices"
   ]
  },
  {
   "cell_type": "code",
   "execution_count": 42,
   "id": "b41b3ac1",
   "metadata": {},
   "outputs": [
    {
     "data": {
      "text/plain": [
       "(3, 64)"
      ]
     },
     "execution_count": 42,
     "metadata": {},
     "output_type": "execute_result"
    }
   ],
   "source": [
    "indices.shape"
   ]
  },
  {
   "cell_type": "code",
   "execution_count": 44,
   "id": "6916fd1b",
   "metadata": {},
   "outputs": [
    {
     "data": {
      "text/plain": [
       "array([3, 3, 3])"
      ]
     },
     "execution_count": 44,
     "metadata": {},
     "output_type": "execute_result"
    }
   ],
   "source": [
    "indices[:, -1]"
   ]
  },
  {
   "cell_type": "code",
   "execution_count": 207,
   "id": "37fc2d46",
   "metadata": {},
   "outputs": [
    {
     "data": {
      "text/plain": [
       "array([1., 2., 3.])"
      ]
     },
     "execution_count": 207,
     "metadata": {},
     "output_type": "execute_result"
    }
   ],
   "source": [
    "np.ascontiguousarray([1, 2, 3], dtype=float)"
   ]
  },
  {
   "cell_type": "code",
   "execution_count": 227,
   "id": "bf4fe934",
   "metadata": {},
   "outputs": [
    {
     "data": {
      "text/plain": [
       "'a = 3, b = 4'"
      ]
     },
     "execution_count": 227,
     "metadata": {},
     "output_type": "execute_result"
    }
   ],
   "source": [
    "a, b = 3, 4\n",
    "s = (f\"a = {a},\"\n",
    "     f\" b = {b}\")\n",
    "s"
   ]
  },
  {
   "cell_type": "code",
   "execution_count": null,
   "id": "62f77e0d",
   "metadata": {},
   "outputs": [],
   "source": []
  }
 ],
 "metadata": {
  "kernelspec": {
   "display_name": "Python 3",
   "language": "python",
   "name": "python3"
  },
  "language_info": {
   "codemirror_mode": {
    "name": "ipython",
    "version": 3
   },
   "file_extension": ".py",
   "mimetype": "text/x-python",
   "name": "python",
   "nbconvert_exporter": "python",
   "pygments_lexer": "ipython3",
   "version": "3.8.10"
  }
 },
 "nbformat": 4,
 "nbformat_minor": 5
}
