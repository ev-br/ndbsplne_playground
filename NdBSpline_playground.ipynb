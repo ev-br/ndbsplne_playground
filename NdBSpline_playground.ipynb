{
 "cells": [
  {
   "cell_type": "markdown",
   "id": "5f7233ab",
   "metadata": {},
   "source": [
    "# TODO\n",
    "\n",
    "1. NdBSpline: a tuple of non-zero b-spline vectors\n",
    "2. *[DONE]* Tests with 2D\n",
    "3. *[DONE]* and 3D\n",
    "4. *[DONE]* vector of `x`   + tests\n",
    "5. *[DONE]* trailing dimensions of `c`: reshape, loop, reshape back + tests\n",
    "6. *[DONE]* test 2D random, non-separable\n",
    "7. test mixed degrees: k = [2, 3] etc\n",
    "\n",
    "--\n",
    "\n",
    "8. get rid of `itertools.product` : iterate over c.flat (subarray!)\n",
    "9. change np.unravel_index / ravel_multi_index to stride manipulation (pointers!)"
   ]
  },
  {
   "cell_type": "code",
   "execution_count": 20,
   "id": "fd6b19b1",
   "metadata": {},
   "outputs": [],
   "source": [
    "import operator\n",
    "import itertools\n",
    "\n",
    "import numpy as np"
   ]
  },
  {
   "cell_type": "code",
   "execution_count": 1,
   "id": "32894c9c",
   "metadata": {},
   "outputs": [],
   "source": [
    "def B(x, k, i, t):\n",
    "    if k == 0:\n",
    "        return 1.0 if t[i] <= x < t[i+1] else 0.0\n",
    "    if t[i+k] == t[i]:\n",
    "        c1 = 0.0\n",
    "    else:\n",
    "        c1 = (x - t[i])/(t[i+k] - t[i]) * B(x, k-1, i, t)\n",
    "    if t[i+k+1] == t[i+1]:\n",
    "        c2 = 0.0\n",
    "    else:\n",
    "        c2 = (t[i+k+1] - x)/(t[i+k+1] - t[i+1]) * B(x, k-1, i+1, t)\n",
    "    return c1 + c2\n",
    "\n",
    "def bspline(x, t, c, k):\n",
    "    n = len(t) - k - 1\n",
    "    assert (n >= k+1) and (len(c) >= n)\n",
    "    return sum(c[i] * B(x, k, i, t) for i in range(n))"
   ]
  },
  {
   "cell_type": "code",
   "execution_count": 2,
   "id": "e71df369",
   "metadata": {},
   "outputs": [],
   "source": [
    "def _naive_eval(x, t, c, k):\n",
    "    \"\"\"\n",
    "    Naive B-spline evaluation. Useful only for testing!\n",
    "    \"\"\"\n",
    "    if x == t[k]:\n",
    "        i = k\n",
    "    else:\n",
    "        i = np.searchsorted(t, x) - 1\n",
    "    assert t[i] <= x <= t[i+1]\n",
    "    assert i >= k and i < len(t) - k\n",
    "    return sum(c[i-j] * B(x, k, i-j, t) for j in range(0, k+1))"
   ]
  },
  {
   "cell_type": "code",
   "execution_count": 7,
   "id": "332d8e12",
   "metadata": {},
   "outputs": [
    {
     "data": {
      "text/plain": [
       "(3.3749999999999996, array(3.375))"
      ]
     },
     "execution_count": 7,
     "metadata": {},
     "output_type": "execute_result"
    }
   ],
   "source": [
    "_naive_eval(1.5, spl.t, spl.c, 3), spl(1.5)"
   ]
  },
  {
   "cell_type": "code",
   "execution_count": 4,
   "id": "a662ec00",
   "metadata": {},
   "outputs": [],
   "source": [
    "import numpy as np\n",
    "from scipy.interpolate import make_interp_spline\n",
    "\n",
    "def prod(iterable):\n",
    "    \"\"\"\n",
    "    Product of a sequence of numbers.\n",
    "\n",
    "    Faster than np.prod for short lists like array shapes, and does\n",
    "    not overflow if using Python integers.\n",
    "    \"\"\"\n",
    "    product = 1\n",
    "    for x in iterable:\n",
    "        product *= x\n",
    "    return product"
   ]
  },
  {
   "cell_type": "code",
   "execution_count": 5,
   "id": "6f5b9738",
   "metadata": {},
   "outputs": [],
   "source": [
    "x = np.arange(6)\n",
    "y = x**3\n",
    "spl = make_interp_spline(x, y, k=3)"
   ]
  },
  {
   "cell_type": "code",
   "execution_count": 6,
   "id": "a3c69d0d",
   "metadata": {},
   "outputs": [
    {
     "data": {
      "text/plain": [
       "array([0., 0., 0., 0., 2., 3., 5., 5., 5., 5.])"
      ]
     },
     "execution_count": 6,
     "metadata": {},
     "output_type": "execute_result"
    }
   ],
   "source": [
    "spl.t"
   ]
  },
  {
   "cell_type": "code",
   "execution_count": null,
   "id": "48a9a099",
   "metadata": {},
   "outputs": [],
   "source": [
    "spl.c"
   ]
  },
  {
   "cell_type": "code",
   "execution_count": null,
   "id": "be44c74f",
   "metadata": {},
   "outputs": [],
   "source": [
    "y_1 = x**3 + 2*x\n",
    "spl_1 = make_interp_spline(x, y_1, k=3)\n",
    "spl_1.t, spl_1.c"
   ]
  },
  {
   "cell_type": "code",
   "execution_count": 8,
   "id": "71aed818",
   "metadata": {},
   "outputs": [
    {
     "ename": "NameError",
     "evalue": "name 'spl_1' is not defined",
     "output_type": "error",
     "traceback": [
      "\u001b[0;31m---------------------------------------------------------------------------\u001b[0m",
      "\u001b[0;31mNameError\u001b[0m                                 Traceback (most recent call last)",
      "\u001b[0;32m<ipython-input-8-c4d10d3bc8f3>\u001b[0m in \u001b[0;36m<module>\u001b[0;34m\u001b[0m\n\u001b[1;32m      1\u001b[0m \u001b[0;31m# make the outer product of 1D coefficients\u001b[0m\u001b[0;34m\u001b[0m\u001b[0;34m\u001b[0m\u001b[0;34m\u001b[0m\u001b[0m\n\u001b[1;32m      2\u001b[0m \u001b[0;34m\u001b[0m\u001b[0m\n\u001b[0;32m----> 3\u001b[0;31m \u001b[0mc2\u001b[0m \u001b[0;34m=\u001b[0m \u001b[0mnp\u001b[0m\u001b[0;34m.\u001b[0m\u001b[0mouter\u001b[0m\u001b[0;34m(\u001b[0m\u001b[0mspl_1\u001b[0m\u001b[0;34m.\u001b[0m\u001b[0mc\u001b[0m\u001b[0;34m,\u001b[0m \u001b[0mspl\u001b[0m\u001b[0;34m.\u001b[0m\u001b[0mc\u001b[0m\u001b[0;34m)\u001b[0m\u001b[0;34m\u001b[0m\u001b[0;34m\u001b[0m\u001b[0m\n\u001b[0m\u001b[1;32m      4\u001b[0m \u001b[0;34m\u001b[0m\u001b[0m\n\u001b[1;32m      5\u001b[0m \u001b[0;32mwith\u001b[0m \u001b[0mnp\u001b[0m\u001b[0;34m.\u001b[0m\u001b[0mprintoptions\u001b[0m\u001b[0;34m(\u001b[0m\u001b[0msuppress\u001b[0m\u001b[0;34m=\u001b[0m\u001b[0;32mTrue\u001b[0m\u001b[0;34m,\u001b[0m \u001b[0mlinewidth\u001b[0m\u001b[0;34m=\u001b[0m\u001b[0;36m100\u001b[0m\u001b[0;34m)\u001b[0m\u001b[0;34m:\u001b[0m\u001b[0;34m\u001b[0m\u001b[0;34m\u001b[0m\u001b[0m\n",
      "\u001b[0;31mNameError\u001b[0m: name 'spl_1' is not defined"
     ]
    }
   ],
   "source": [
    "# make the outer product of 1D coefficients\n",
    "\n",
    "c2 = np.outer(spl_1.c, spl.c)\n",
    "\n",
    "with np.printoptions(suppress=True, linewidth=100):\n",
    "    print(c2)"
   ]
  },
  {
   "cell_type": "code",
   "execution_count": 9,
   "id": "e822e0d7",
   "metadata": {},
   "outputs": [],
   "source": [
    "def bspline2(xy, t, c, k):\n",
    "    x, y = xy\n",
    "    tx, ty = t\n",
    "    nx = len(tx) - k - 1\n",
    "    assert (nx >= k+1)\n",
    "    ny = len(ty) - k - 1\n",
    "    assert (ny >= k+1)\n",
    "    return sum(c[ix, iy] * B(x, k, ix, tx) * B(y, k, iy, ty) for ix in range(nx) for iy in range(ny))"
   ]
  },
  {
   "cell_type": "code",
   "execution_count": 10,
   "id": "2d98a7c6",
   "metadata": {},
   "outputs": [
    {
     "ename": "NameError",
     "evalue": "name 'spl_1' is not defined",
     "output_type": "error",
     "traceback": [
      "\u001b[0;31m---------------------------------------------------------------------------\u001b[0m",
      "\u001b[0;31mNameError\u001b[0m                                 Traceback (most recent call last)",
      "\u001b[0;32m<ipython-input-10-144bf2b96e72>\u001b[0m in \u001b[0;36m<module>\u001b[0;34m\u001b[0m\n\u001b[1;32m      1\u001b[0m \u001b[0;32mfor\u001b[0m \u001b[0mx0\u001b[0m\u001b[0;34m,\u001b[0m \u001b[0my0\u001b[0m \u001b[0;32min\u001b[0m \u001b[0;34m[\u001b[0m\u001b[0;34m(\u001b[0m\u001b[0;36m1.5\u001b[0m\u001b[0;34m,\u001b[0m \u001b[0;36m0.5\u001b[0m\u001b[0;34m)\u001b[0m\u001b[0;34m,\u001b[0m \u001b[0;34m(\u001b[0m\u001b[0;36m2.5\u001b[0m\u001b[0;34m,\u001b[0m \u001b[0;36m1\u001b[0m\u001b[0;34m)\u001b[0m\u001b[0;34m,\u001b[0m \u001b[0;34m(\u001b[0m\u001b[0;36m0.5\u001b[0m\u001b[0;34m,\u001b[0m \u001b[0;36m1.5\u001b[0m\u001b[0;34m)\u001b[0m\u001b[0;34m]\u001b[0m\u001b[0;34m:\u001b[0m\u001b[0;34m\u001b[0m\u001b[0;34m\u001b[0m\u001b[0m\n\u001b[1;32m      2\u001b[0m     print((x0**3 + 2*x0)* y0**3, ' -- ',\n\u001b[0;32m----> 3\u001b[0;31m           bspline2((x0, y0), (spl.t, spl_1.t), c2, k=3))\n\u001b[0m",
      "\u001b[0;31mNameError\u001b[0m: name 'spl_1' is not defined"
     ]
    }
   ],
   "source": [
    "for x0, y0 in [(1.5, 0.5), (2.5, 1), (0.5, 1.5)]:\n",
    "    print((x0**3 + 2*x0)* y0**3, ' -- ',\n",
    "          bspline2((x0, y0), (spl.t, spl_1.t), c2, k=3))"
   ]
  },
  {
   "cell_type": "code",
   "execution_count": null,
   "id": "fff30a0e",
   "metadata": {},
   "outputs": [],
   "source": [
    "(0.5**3 + 2*0.5) * 1.5**3"
   ]
  },
  {
   "cell_type": "code",
   "execution_count": 11,
   "id": "8f1d9528",
   "metadata": {},
   "outputs": [],
   "source": [
    "class NdBSpline0:\n",
    "    def __init__(self, t, c, k=3):\n",
    "        \"\"\"Tensor product spline object.\n",
    "        \n",
    "        c[i1, i2, ..., id] * B(x1, i1) * B(x2, i2) * ... * B(xd, id)\n",
    "        \n",
    "        \n",
    "        Parameters\n",
    "        ----------\n",
    "        c : ndarray, shape (n1, n2, ..., nd, ...)\n",
    "            b-spline coefficients\n",
    "        t : tuple of 1D ndarrays\n",
    "            knot vectors in directions 1, 2, ... d\n",
    "            ``len(t[i]) == n[i] + k + 1``\n",
    "        k : int or length-d tuple of integers\n",
    "            spline degrees.\n",
    "        \"\"\"\n",
    "        ndim = len(t)\n",
    "        assert ndim <= len(c.shape)\n",
    "        \n",
    "        try:\n",
    "            len(k)\n",
    "        except TypeError:\n",
    "            # make k a tuple\n",
    "            k = (k,)*ndim\n",
    "\n",
    "        self.k = tuple(operator.index(ki) for ki in k)\n",
    "        self.t = tuple(np.asarray(ti, dtype=float) for ti in t)\n",
    "        self.c = c\n",
    "\n",
    "    def __call__(self, x):\n",
    "        ndim = len(self.t)\n",
    "        # a single evaluation point: `x` is a 1D array_like, shape (ndim,)\n",
    "        assert len(x) == ndim\n",
    "        \n",
    "        # get the indices in an ndim-dimensional vector\n",
    "        i = ['none',]*ndim\n",
    "        for d in range(ndim):\n",
    "            td, xd = self.t[d], x[d]\n",
    "            k = self.k[d]\n",
    "            \n",
    "            # find the index for x[d]\n",
    "            if xd == td[k]:\n",
    "                i[d] = k\n",
    "            else:\n",
    "                i[d] = np.searchsorted(td, xd) - 1\n",
    "            assert td[i[d]] <= xd <= td[i[d]+1]\n",
    "            assert i[d] >= k and i[d] < len(td) - k\n",
    "        i = tuple(i)\n",
    "        \n",
    "        # iterate over the dimensions, form linear combinations of\n",
    "        # products B(x_1) * B(x_2) * ... B(x_N) of (k+1)**N b-splines\n",
    "        # which are non-zero at `i = (i_1, i_2, ..., i_N)`.\n",
    "        result = 0\n",
    "        iters = [range(i[d] - self.k[d], i[d] + 1) for d in range(ndim)]\n",
    "        for idx in itertools.product(*iters):\n",
    "            term = self.c[idx] * prod(B(x[d], self.k[d], idx[d], self.t[d]) for d in range(ndim))\n",
    "            result += term\n",
    "        return result"
   ]
  },
  {
   "cell_type": "code",
   "execution_count": 201,
   "id": "72ffa438",
   "metadata": {},
   "outputs": [],
   "source": [
    "class NdBSpline:\n",
    "    \"\"\"Tensor product spline object.\n",
    "\n",
    "    c[i1, i2, ..., id] * B(x1, i1) * B(x2, i2) * ... * B(xd, id)\n",
    "\n",
    "\n",
    "    Parameters\n",
    "    ----------\n",
    "    c : ndarray, shape (n1, n2, ..., nd, ...)\n",
    "        b-spline coefficients\n",
    "    t : tuple of 1D ndarrays\n",
    "        knot vectors in directions 1, 2, ... d\n",
    "        ``len(t[i]) == n[i] + k + 1``\n",
    "    k : int or length-d tuple of integers\n",
    "        spline degrees.\n",
    "    \"\"\"\n",
    "    def __init__(self, t, c, k=3):\n",
    "        ndim = len(t)\n",
    "        assert ndim <= len(c.shape)\n",
    "        \n",
    "        try:\n",
    "            len(k)\n",
    "        except TypeError:\n",
    "            # make k a tuple\n",
    "            k = (k,)*ndim\n",
    "\n",
    "        self.k = tuple(operator.index(ki) for ki in k)\n",
    "        self.t = tuple(np.asarray(ti, dtype=float) for ti in t)\n",
    "        self.c = c\n",
    "\n",
    "    def __call__(self, xi):\n",
    "        \"\"\"Evaluate the tensor product b-spline at coordinates.\n",
    "        \n",
    "        Parameters\n",
    "        ----------\n",
    "        xi : array_like, shape(..., ndim)\n",
    "            The coordinates to evaluate the interpolator at.\n",
    "            This can be a list or tuple of ndim-dimensional points\n",
    "            or an array with the shape (num_points, ndim).\n",
    "            \n",
    "        Returns\n",
    "        -------\n",
    "        values : ndarray, shape xi.shape[:-1] + self.c.shape[ndim:]\n",
    "            Interpolated values at xi\n",
    "        \"\"\"\n",
    "        ndim = len(self.t)\n",
    "\n",
    "        # prepare xi : shape (..., m1, ..., md) -> (1, m1, ..., md)\n",
    "        xi = np.asarray(xi, dtype=float)\n",
    "        xi_shape = xi.shape\n",
    "        xi = xi.reshape(-1, xi_shape[-1])        \n",
    "        xi = np.ascontiguousarray(xi)\n",
    "\n",
    "        if xi_shape[-1] != ndim:\n",
    "            raise ValueError(f\"Shapes: xi.shape={xi_shape} and ndim={ndim}\")\n",
    "        \n",
    "        # prepare the coefficients: flatten the trailing dimensions\n",
    "        c1 = self.c.reshape(self.c.shape[:ndim] + (-1,))\n",
    "        \n",
    "        num_c_tr = c1.shape[-1]  # # of trailing coefficients\n",
    "        out = np.empty(xi.shape[:-1] + (num_c_tr,), dtype=float)\n",
    "        \n",
    "        # iterate over the data points\n",
    "        for j in range(xi.shape[0]):           \n",
    "            x = xi[j]\n",
    "\n",
    "            # get the indices in an ndim-dimensional vector\n",
    "            i = ['none',]*ndim\n",
    "            b = np.empty((ndim, max(self.k)+1), dtype=float) * np.nan\n",
    "            for d in range(ndim):\n",
    "                td, xd = self.t[d], x[d]\n",
    "                k = self.k[d]\n",
    "\n",
    "                # find the index for x[d]\n",
    "                if xd == td[k]:\n",
    "                    i[d] = k\n",
    "                else:\n",
    "                    i[d] = np.searchsorted(td, xd) - 1\n",
    "                assert td[i[d]] <= xd <= td[i[d]+1]\n",
    "                assert i[d] >= k and i[d] < len(td) - k\n",
    "\n",
    "                # (k+1) b-splines which are non-zero at x[d] \n",
    "                b[d, :k+1] = [B(xd, k, j, td) for j in range(i[d]-k, i[d]+1)]   \n",
    "            i = tuple(i)\n",
    "\n",
    "            # iterate over the dimensions, form linear combinations of\n",
    "            # products B(x_1) * B(x_2) * ... B(x_N) of (k+1)**N b-splines\n",
    "            # which are non-zero at `i = (i_1, i_2, ..., i_N)`.\n",
    "            result = np.zeros(num_c_tr, dtype=float)\n",
    "            iters = [range(i[d] - self.k[d], i[d] + 1) for d in range(ndim)]\n",
    "            for idx in itertools.product(*iters):\n",
    "                factor = prod(b[d, idx[d] - i[d] + self.k[d]] for d in range(ndim))\n",
    "                # loop over the trailing values of self.c explicitly\n",
    "                for i_c in range(num_c_tr):\n",
    "                    result[i_c] += c1[idx + (i_c,)] * factor\n",
    "    ##                print(idx, i_c)\n",
    "            \n",
    "            ### The above is in principle enough for a prototype.\n",
    "            ### Below, replicate it with flat indexing.\n",
    "            result_flat = np.zeros(num_c_tr, dtype=float)\n",
    "            c1r = c1.ravel()\n",
    "            for iflat in range((k+1)**ndim):\n",
    "                idx_b = np.unravel_index(iflat, (k+1,)*ndim)\n",
    "                factor = prod(b[d, idx_b[d]] for d in range(ndim))   # bsplines\n",
    "        \n",
    "                # shift the indices into c1.ravel()\n",
    "                idx_b = list(idx_b)\n",
    "                for d in range(ndim):\n",
    "                    idx_b[d] += i[d] - self.k[d] \n",
    "\n",
    "                # collect linear combinations of coef * factor\n",
    "                idx_c = idx_b + ['none',]\n",
    "                for i_c in range(num_c_tr):\n",
    "                    idx_c[-1] = i_c\n",
    "                    idx_cflat = np.ravel_multi_index(tuple(idx_c), c1.shape)\n",
    "                    result_flat[i_c] += c1r[idx_cflat] * factor\n",
    "\n",
    "            from numpy.testing import assert_allclose\n",
    "            assert_allclose(result, result_flat, atol=1e-15)\n",
    "                \n",
    "            # copy the result over: this is in fact a loop over num_c_tr\n",
    "            out[j, ...] = result_flat\n",
    "            \n",
    "        return out.reshape(xi_shape[:-1] + self.c.shape[ndim:])"
   ]
  },
  {
   "cell_type": "code",
   "execution_count": 14,
   "id": "bfe66706",
   "metadata": {},
   "outputs": [
    {
     "ename": "NameError",
     "evalue": "name 'spl_1' is not defined",
     "output_type": "error",
     "traceback": [
      "\u001b[0;31m---------------------------------------------------------------------------\u001b[0m",
      "\u001b[0;31mNameError\u001b[0m                                 Traceback (most recent call last)",
      "\u001b[0;32m<ipython-input-14-08207e4f829b>\u001b[0m in \u001b[0;36m<module>\u001b[0;34m\u001b[0m\n\u001b[0;32m----> 1\u001b[0;31m \u001b[0mbspl2\u001b[0m \u001b[0;34m=\u001b[0m \u001b[0mNdBSpline\u001b[0m\u001b[0;34m(\u001b[0m\u001b[0;34m(\u001b[0m\u001b[0mspl\u001b[0m\u001b[0;34m.\u001b[0m\u001b[0mt\u001b[0m\u001b[0;34m,\u001b[0m \u001b[0mspl_1\u001b[0m\u001b[0;34m.\u001b[0m\u001b[0mt\u001b[0m\u001b[0;34m)\u001b[0m\u001b[0;34m,\u001b[0m \u001b[0mc2\u001b[0m\u001b[0;34m,\u001b[0m \u001b[0mk\u001b[0m\u001b[0;34m=\u001b[0m\u001b[0;36m3\u001b[0m\u001b[0;34m)\u001b[0m\u001b[0;34m\u001b[0m\u001b[0;34m\u001b[0m\u001b[0m\n\u001b[0m\u001b[1;32m      2\u001b[0m \u001b[0;34m\u001b[0m\u001b[0m\n\u001b[1;32m      3\u001b[0m \u001b[0;32mfor\u001b[0m \u001b[0mx0\u001b[0m\u001b[0;34m,\u001b[0m \u001b[0my0\u001b[0m \u001b[0;32min\u001b[0m \u001b[0;34m[\u001b[0m\u001b[0;34m(\u001b[0m\u001b[0;36m1.5\u001b[0m\u001b[0;34m,\u001b[0m \u001b[0;36m2.5\u001b[0m\u001b[0;34m)\u001b[0m\u001b[0;34m,\u001b[0m \u001b[0;34m(\u001b[0m\u001b[0;36m2.5\u001b[0m\u001b[0;34m,\u001b[0m \u001b[0;36m1\u001b[0m\u001b[0;34m)\u001b[0m\u001b[0;34m,\u001b[0m \u001b[0;34m(\u001b[0m\u001b[0;36m0.5\u001b[0m\u001b[0;34m,\u001b[0m \u001b[0;36m1.5\u001b[0m\u001b[0;34m)\u001b[0m\u001b[0;34m]\u001b[0m\u001b[0;34m:\u001b[0m\u001b[0;34m\u001b[0m\u001b[0;34m\u001b[0m\u001b[0m\n\u001b[1;32m      4\u001b[0m     print((x0**3 + 2*x0)* y0**3, ' -- ',\n\u001b[1;32m      5\u001b[0m           \u001b[0mbspline2\u001b[0m\u001b[0;34m(\u001b[0m\u001b[0;34m(\u001b[0m\u001b[0mx0\u001b[0m\u001b[0;34m,\u001b[0m \u001b[0my0\u001b[0m\u001b[0;34m)\u001b[0m\u001b[0;34m,\u001b[0m \u001b[0;34m(\u001b[0m\u001b[0mspl\u001b[0m\u001b[0;34m.\u001b[0m\u001b[0mt\u001b[0m\u001b[0;34m,\u001b[0m \u001b[0mspl_1\u001b[0m\u001b[0;34m.\u001b[0m\u001b[0mt\u001b[0m\u001b[0;34m)\u001b[0m\u001b[0;34m,\u001b[0m \u001b[0mc2\u001b[0m\u001b[0;34m,\u001b[0m \u001b[0mk\u001b[0m\u001b[0;34m=\u001b[0m\u001b[0;36m3\u001b[0m\u001b[0;34m)\u001b[0m\u001b[0;34m,\u001b[0m \u001b[0;34m'--'\u001b[0m\u001b[0;34m,\u001b[0m\u001b[0;34m\u001b[0m\u001b[0;34m\u001b[0m\u001b[0m\n",
      "\u001b[0;31mNameError\u001b[0m: name 'spl_1' is not defined"
     ]
    }
   ],
   "source": [
    "bspl2 = NdBSpline((spl.t, spl_1.t), c2, k=3)\n",
    "\n",
    "for x0, y0 in [(1.5, 2.5), (2.5, 1), (0.5, 1.5)]:\n",
    "    print((x0**3 + 2*x0)* y0**3, ' -- ',\n",
    "          bspline2((x0, y0), (spl.t, spl_1.t), c2, k=3), '--',\n",
    "         ## naive_B_2((x0, y0), (spl.t, spl_1.t), c2, k=3), )\n",
    "          bspl2((x0, y0))\n",
    "         )"
   ]
  },
  {
   "cell_type": "code",
   "execution_count": null,
   "id": "c3219447",
   "metadata": {},
   "outputs": [],
   "source": [
    "bspl2([(1.5, 2.5), (2.5, 1), (0.5, 1.5)])"
   ]
  },
  {
   "cell_type": "code",
   "execution_count": null,
   "id": "306d62fc",
   "metadata": {},
   "outputs": [],
   "source": [
    "spl2 = NdBSpline((spl.t, spl_1.t), c2, k=3)\n",
    "\n",
    "spl2((1.5, 2.5))"
   ]
  },
  {
   "cell_type": "code",
   "execution_count": null,
   "id": "8fa15443",
   "metadata": {},
   "outputs": [],
   "source": [
    "spl.t, spl_1.t"
   ]
  },
  {
   "cell_type": "code",
   "execution_count": null,
   "id": "e34722d6",
   "metadata": {},
   "outputs": [],
   "source": [
    "k = 3\n",
    "p = itertools.product(*(range(0, k+1),)*3)\n",
    "for j, tpl in enumerate(p):\n",
    "    #print(j, tpl, a[tpl])\n",
    "    pass"
   ]
  },
  {
   "cell_type": "markdown",
   "id": "4f798b2f",
   "metadata": {},
   "source": [
    "# Tests"
   ]
  },
  {
   "cell_type": "code",
   "execution_count": 147,
   "id": "93c60c43",
   "metadata": {},
   "outputs": [],
   "source": [
    "def bspline2(xy, t, c, k):\n",
    "    \"\"\"A naive 2D tensort product spline evaluation.\"\"\"\n",
    "    x, y = xy\n",
    "    tx, ty = t\n",
    "    nx = len(tx) - k - 1\n",
    "    assert (nx >= k+1)\n",
    "    ny = len(ty) - k - 1\n",
    "    assert (ny >= k+1)\n",
    "    return sum(c[ix, iy] * B(x, k, ix, tx) * B(y, k, iy, ty) for ix in range(nx) for iy in range(ny))\n",
    "\n",
    "\n",
    "def naive_B_2(xy, t, c, k):\n",
    "    \"\"\"\n",
    "    Naive B-spline evaluation, another way.\n",
    "    \"\"\"\n",
    "    x, y = xy\n",
    "    tx, ty = t\n",
    "    \n",
    "    if x == tx[k]:\n",
    "        ix = k\n",
    "    else:\n",
    "        ix = np.searchsorted(tx, x) - 1\n",
    "    assert tx[ix] <= x <= tx[ix + 1]\n",
    "    assert ix >= k and ix < len(tx) - k\n",
    "\n",
    "    if y == ty[k]:\n",
    "        iy = k\n",
    "    else:\n",
    "        iy = np.searchsorted(ty, y) - 1\n",
    "    assert ty[iy] <= y <= ty[iy + 1]\n",
    "    assert iy >= k and iy < len(ty) - k\n",
    "    \n",
    "    res = sum(c[ix-jx, iy - jy] * B(x, k, ix-jx, tx) * B(y, k, iy-jy, ty)\n",
    "               for jx in range(0, k+1) for jy in range(0, k+1))\n",
    "    \n",
    "    result = 0\n",
    "    for jx in range(ix-k, ix+1):\n",
    "        for jy in range(iy-k, iy+1):\n",
    "            result += c[jx, jy] * B(x, k, jx, tx) * B(y, k, jy, ty)\n",
    "            \n",
    "    assert np.allclose(result,  res) #, result-res\n",
    "    return result"
   ]
  },
  {
   "cell_type": "code",
   "execution_count": 148,
   "id": "68c46708",
   "metadata": {},
   "outputs": [],
   "source": [
    "from numpy.testing import assert_allclose\n",
    "from numpy.random import default_rng\n",
    "\n",
    "\n",
    "def make_2d_case():\n",
    "    # make a 2D separable spline\n",
    "    x = np.arange(6)\n",
    "    y = x**3\n",
    "    spl = make_interp_spline(x, y, k=3)\n",
    "    \n",
    "    y_1 = x**3 + 2*x\n",
    "    spl_1 = make_interp_spline(x, y_1, k=3)\n",
    "\n",
    "    t2 = (spl.t, spl_1.t)\n",
    "    c2 = np.outer(spl_1.c, spl.c)\n",
    "    \n",
    "    return t2, c2, 3"
   ]
  },
  {
   "cell_type": "code",
   "execution_count": 202,
   "id": "99299061",
   "metadata": {},
   "outputs": [],
   "source": [
    "# test 2D\n",
    "\n",
    "def test_2D_separable():\n",
    "    xi = [(1.5, 2.5), (2.5, 1), (0.5, 1.5)]  \n",
    "    t2, c2, k = make_2d_case()\n",
    "    target = [(x**3 + 2*x) * y**3 for (x, y) in xi]\n",
    "    \n",
    "    # sanity check: bspline2 gives the product as constructed\n",
    "    assert_allclose([bspline2(xy, t2, c2, k) for xy in xi],\n",
    "                    target,\n",
    "                    atol=1e-14)\n",
    "\n",
    "    # check evaluation on a 2D array: the 1D array of 2D points\n",
    "    bspl2 = NdBSpline(t2, c2, k=3)\n",
    "    assert bspl2(xi).shape == (len(xi), )\n",
    "    assert_allclose(bspl2(xi),\n",
    "                    target, atol=1e-14)\n",
    "    \n",
    "    # now check on a multidim xi\n",
    "    rng = default_rng(12345)\n",
    "    xi = rng.uniform(size=(4, 3, 2)) * 5\n",
    "    result = bspl2(xi)\n",
    "    assert result.shape == (4, 3)\n",
    "    \n",
    "    # also check the values\n",
    "    x, y = xi.reshape((-1, 2)).T\n",
    "    assert_allclose(result.ravel(),\n",
    "                    (x**3 + 2*x) * y**3, atol=1e-14)\n",
    "\n",
    "\n",
    "def test_2D_separable_2():\n",
    "    # test `c` with trailing dimensions, i.e. c.ndim > ndim\n",
    "    ndim = 2\n",
    "    xi = [(1.5, 2.5), (2.5, 1), (0.5, 1.5)]  \n",
    "    target = [(x**3 + 2*x) * y**3 for (x, y) in xi]\n",
    "\n",
    "    t2, c2, k = make_2d_case()\n",
    "    c2_4 = np.dstack((c2, c2, c2, c2))   # c22.shape = (6, 6, 4)\n",
    "    \n",
    "    xy = (1.5, 2.5)\n",
    "    bspl2_4 = NdBSpline(t2, c2_4, k=3)\n",
    "    result = bspl2_4(xy)\n",
    "    val_single = NdBSpline(t2, c2, k)(xy)\n",
    "    assert result.shape == (4,)\n",
    "    assert_allclose(result,\n",
    "                    [val_single,]*4, atol=1e-14)\n",
    "    \n",
    "    # now try the array xi : the output.shape is (3, 4)\n",
    "    # where 3 is the number of points in xi and 4 is the trailing dimension of c\n",
    "    assert bspl2_4(xi).shape == np.shape(xi)[:-1] + bspl2_4.c.shape[ndim:]\n",
    "    assert_allclose(bspl2_4(xi) - np.asarray(target)[:, None],\n",
    "                    0, atol=5e-14)\n",
    "    \n",
    "    # two trailing dimensions\n",
    "    c2_22 = c2_4.reshape((6, 6, 2, 2))\n",
    "    bspl2_22 = NdBSpline(t2, c2_22, k=3)\n",
    "    \n",
    "    result = bspl2_22(xy)\n",
    "    assert result.shape == (2, 2)\n",
    "    assert_allclose(result,\n",
    "                    [[val_single, val_single],\n",
    "                     [val_single, val_single]], atol=1e-14)\n",
    "\n",
    "    # now try the array xi : the output shape is (3, 2, 2)\n",
    "    # for 3 points in xi and c trailing dimensions being (2, 2)\n",
    "    assert bspl2_22(xi).shape == np.shape(xi)[:-1] + bspl2_22.c.shape[ndim:]\n",
    "    assert_allclose(bspl2_22(xi) - np.asarray(target)[:, None, None],\n",
    "                    0, atol=5e-14)\n",
    "\n",
    "def test_2D_random():\n",
    "    rng = default_rng(12345)\n",
    "    k = 3\n",
    "    tx = np.r_[0, 0, 0, 0, np.sort(rng.uniform(size=7)) * 3, 3, 3, 3, 3]\n",
    "    ty = np.r_[0, 0, 0, 0, np.sort(rng.uniform(size=8)) * 4, 3, 4, 4, 4]\n",
    "    c = rng.uniform(size=(tx.size-k-1, ty.size-k-1))\n",
    "    \n",
    "    spl = NdBSpline((tx, ty), c, k=k)\n",
    "    \n",
    "    xi = (1., 1.)\n",
    "    assert_allclose(spl(xi), bspline2(xi, (tx, ty), c, k), atol=1e-14)\n",
    "\n",
    "    xi = np.c_[[1, 1.5, 2],\n",
    "               [1.1, 1.6, 2.1]]\n",
    "    assert_allclose(spl(xi), [bspline2(xy, (tx, ty), c, k) for xy in xi], atol=1e-14)\n",
    "\n",
    "    \n",
    "    \n",
    "#### RUN test ###\n",
    "test_2D_separable()\n",
    "test_2D_separable_2()\n",
    "test_2D_random()"
   ]
  },
  {
   "cell_type": "code",
   "execution_count": 203,
   "id": "91e37f9c",
   "metadata": {},
   "outputs": [],
   "source": [
    "# test 3D\n",
    "\n",
    "def make_3d_case():\n",
    "    # make a 3D separable spline\n",
    "    x = np.arange(6)\n",
    "    y = x**3\n",
    "    spl = make_interp_spline(x, y, k=3)\n",
    "    \n",
    "    y_1 = x**3 + 2*x\n",
    "    spl_1 = make_interp_spline(x, y_1, k=3)\n",
    "\n",
    "    y_2 = x**3 + 3*x + 1\n",
    "    spl_2 = make_interp_spline(x, y_2, k=3)\n",
    "    \n",
    "    t2 = (spl.t, spl_1.t, spl_2.t)\n",
    "    c2 = spl_2.c[None, None, :] * spl_1.c[None, :, None] * spl.c[:, None, None]\n",
    "    \n",
    "    return t2, c2, 3\n",
    "\n",
    "\n",
    "def test_3D_separable():\n",
    "    rng = default_rng(12345)\n",
    "    x, y, z = rng.uniform(size=(3, 11)) * 5\n",
    "    target = x**3 * (y**3 + 2*y) * (z**3 + 3*z + 1)\n",
    "\n",
    "    t3, c3, k = make_3d_case()\n",
    "    bspl3 = NdBSpline(t3, c3, k=3)\n",
    "\n",
    "    xi = [_ for _ in zip(x, y, z)]\n",
    "    result = bspl3(xi)\n",
    "    assert result.shape == (11,)\n",
    "    assert_allclose(result, target, atol=1e-14)\n",
    "        \n",
    "test_3D_separable()"
   ]
  },
  {
   "cell_type": "code",
   "execution_count": 170,
   "id": "eddcb48f",
   "metadata": {},
   "outputs": [],
   "source": [
    "    t3, c3, k = make_3d_case()\n",
    "    bspl3 = NdBSpline(t3, c3, k=3)"
   ]
  },
  {
   "cell_type": "code",
   "execution_count": 172,
   "id": "a1e10e6f",
   "metadata": {},
   "outputs": [
    {
     "data": {
      "text/plain": [
       "216"
      ]
     },
     "execution_count": 172,
     "metadata": {},
     "output_type": "execute_result"
    }
   ],
   "source": [
    "c3.size"
   ]
  },
  {
   "cell_type": "code",
   "execution_count": 176,
   "id": "d7261d4f",
   "metadata": {},
   "outputs": [
    {
     "data": {
      "text/plain": [
       "(288, 48, 8)"
      ]
     },
     "execution_count": 176,
     "metadata": {},
     "output_type": "execute_result"
    }
   ],
   "source": [
    "c3.strides"
   ]
  },
  {
   "cell_type": "code",
   "execution_count": 177,
   "id": "f8337f38",
   "metadata": {},
   "outputs": [
    {
     "data": {
      "text/plain": [
       "(8,)"
      ]
     },
     "execution_count": 177,
     "metadata": {},
     "output_type": "execute_result"
    }
   ],
   "source": [
    "c3.ravel().strides"
   ]
  },
  {
   "cell_type": "code",
   "execution_count": null,
   "id": "b63fb5a7",
   "metadata": {},
   "outputs": [],
   "source": []
  }
 ],
 "metadata": {
  "kernelspec": {
   "display_name": "Python 3",
   "language": "python",
   "name": "python3"
  },
  "language_info": {
   "codemirror_mode": {
    "name": "ipython",
    "version": 3
   },
   "file_extension": ".py",
   "mimetype": "text/x-python",
   "name": "python",
   "nbconvert_exporter": "python",
   "pygments_lexer": "ipython3",
   "version": "3.8.10"
  }
 },
 "nbformat": 4,
 "nbformat_minor": 5
}
